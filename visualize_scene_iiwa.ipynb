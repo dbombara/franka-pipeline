{
 "cells": [
  {
   "cell_type": "code",
   "execution_count": 9,
   "metadata": {},
   "outputs": [],
   "source": [
    "import numpy as np\n",
    "from pydrake.geometry import StartMeshcat\n",
    "from pydrake.multibody.inverse_kinematics import (\n",
    "    DifferentialInverseKinematicsParameters,\n",
    "    DifferentialInverseKinematicsStatus,\n",
    "    DoDifferentialInverseKinematics,\n",
    ")\n",
    "from pydrake.systems.analysis import Simulator\n",
    "from pydrake.systems.framework import DiagramBuilder, EventStatus, LeafSystem\n",
    "from pydrake.visualization import MeshcatPoseSliders\n",
    "\n",
    "from manipulation import running_as_notebook\n",
    "from manipulation.meshcat_utils import WsgButton\n",
    "from manipulation.scenarios import AddIiwaDifferentialIK, ExtractBodyPose\n",
    "from manipulation.station import MakeHardwareStation, load_scenario"
   ]
  },
  {
   "cell_type": "code",
   "execution_count": 10,
   "metadata": {},
   "outputs": [
    {
     "name": "stderr",
     "output_type": "stream",
     "text": [
      "INFO:drake:Meshcat listening for connections at http://localhost:7006\n"
     ]
    }
   ],
   "source": [
    "# Start the visualizer.\n",
    "meshcat = StartMeshcat()"
   ]
  },
  {
   "cell_type": "code",
   "execution_count": 11,
   "metadata": {},
   "outputs": [],
   "source": [
    "def construct_scenario():\n",
    "    scenario_data = \"\"\"\n",
    "directives:\n",
    "- add_model:\n",
    "    name: table_top\n",
    "    file: package://tucker/models/table_top.sdf\n",
    "- add_weld:\n",
    "    parent: world\n",
    "    child: table_top::table_top_center\n",
    "- add_model:\n",
    "    name: iiwa\n",
    "    file: package://drake/manipulation/models/iiwa_description/iiwa7/iiwa7_no_collision.sdf\n",
    "    default_joint_positions:\n",
    "        iiwa_joint_1: [-1.57]\n",
    "        iiwa_joint_2: [0.1]\n",
    "        iiwa_joint_3: [0]\n",
    "        iiwa_joint_4: [-1.2]\n",
    "        iiwa_joint_5: [0]\n",
    "        iiwa_joint_6: [ 1.6]\n",
    "        iiwa_joint_7: [0]\n",
    "- add_weld:\n",
    "    parent: table_top_link\n",
    "    child: iiwa::iiwa_link_0\n",
    "    X_PC:\n",
    "        translation: [0.35, 0.5, 0.015]\n",
    "- add_model:\n",
    "    name: wsg\n",
    "    file: package://drake/manipulation/models/wsg_50_description/sdf/schunk_wsg_50_with_tip.sdf\n",
    "- add_weld:\n",
    "    parent: iiwa::iiwa_link_7\n",
    "    child: wsg::body\n",
    "    X_PC:\n",
    "        translation: [0, 0, 0.09]\n",
    "        rotation: !Rpy { deg: [90, 0, 90]}\n",
    "\"\"\"\n",
    "# plant_config:\n",
    "#    time_step: 0.01\n",
    "\n",
    "    driver_data = \"\"\"\n",
    "model_drivers:\n",
    "    iiwa: !IiwaDriver\n",
    "      hand_model_name: wsg\n",
    "    wsg: !SchunkWsgDriver {}\n",
    "\"\"\"\n",
    "\n",
    "    scenario_data += driver_data\n",
    "    scenario = load_scenario(data = scenario_data)\n",
    "    return scenario"
   ]
  },
  {
   "cell_type": "code",
   "execution_count": 12,
   "metadata": {},
   "outputs": [
    {
     "name": "stderr",
     "output_type": "stream",
     "text": [
      "WARNING:drake:Differential IK started returning status:\"stuck\" at time 0.0.\n",
      "WARNING:drake:Differential IK started finding solutions again at time 0.128.\n"
     ]
    },
    {
     "name": "stdout",
     "output_type": "stream",
     "text": [
      "Press Space to open/close the gripper\n",
      "Press Escape to stop the simulation\n",
      "[-9.511088270919043e-05, 1.769809010979125e-05, -5.3522004307926086e-05, 1.1947922375460918e-05, 1.8826614563509287e-05, -2.770294530139979e-05, -0.00014113860987291719]\n",
      "[-0.0001623706343408068, 1.5182480178374349e-05, -4.376691514830712e-06, 1.0095119007633122e-05, 2.1330605721085313e-05, -3.1648184966621845e-05, -0.00015797397098544274]\n",
      "[0.0027450189581333146, -0.010895301104795412, 0.007447692388386375, 0.03961535260801699, -0.0023128849089006495, 0.2679158532564374, -0.0005255675890528205]\n",
      "[0.002837408015705828, -0.011210448256136991, 0.00020079135764929098, 0.04181553776391654, 0.012762513100813578, 0.2797240892507199, -0.008940845483175376]\n",
      "[0.010519717998671501, -0.010932131451932694, -0.013257180287506921, 0.03979894403491012, -0.007622026136037491, 0.280553017961558, -0.010578019852225097]\n",
      "[0.013931451118258489, 0.007352807057157911, 0.0025320315359814408, 0.04971494252388212, -0.012631222621497453, 0.27063774730062784, 0.016210611632006527]\n",
      "[0.007260403693393323, -0.0061037446295988595, 0.005703642869563638, 0.03182104092731561, 0.006015860092799979, 0.2588071654237443, -0.005989623423194216]\n",
      "[0.005941378977229473, -0.006602484205852437, 0.003692407203986113, 0.03951090002798131, -0.0005425382678604929, 0.2620605311824598, 0.0003612386314857171]\n",
      "[0.005823466268751736, -0.006471371603803748, 0.0036191538701843863, 0.038726783597668325, -0.0005322238567252987, 0.25686139395328245, 0.00035364529269035484]\n",
      "[0.005707892957846304, -0.006342860200350596, 0.0035473543952988093, 0.03795822339760024, -0.0005221038339302905, 0.2517654093443127, 0.00034619244056504744]\n",
      "[0.005594612690676732, -0.006216898537596611, 0.003476979456328351, 0.0372049119048636, -0.0005121846004684701, 0.2467705319306716, 0.0003388874395778358]\n",
      "[0.005483579971881626, -0.006093436027208704, 0.0034080007897987923, 0.036466546575720446, -0.0005024621725209784, 0.24187475568884284, 0.0003317273566314316]\n",
      "[0.005369481727721965, -0.0059810607880594, 0.0033521845927410223, 0.03574259689375078, -0.00047571381206050944, 0.2370743728362894, 0.00033406030548760246]\n",
      "[-0.008850397620543687, -0.0039031758870022135, 0.019789060786236476, 0.03509078668088539, 0.00023515994201727793, 0.23274188376290889, -0.004385744021420463]\n"
     ]
    },
    {
     "name": "stderr",
     "output_type": "stream",
     "text": [
      "WARNING:drake:Differential IK started returning status:\"stuck\" at time 28.939.\n",
      "WARNING:drake:Differential IK started finding solutions again at time 29.417.\n",
      "WARNING:drake:Differential IK started returning status:\"stuck\" at time 29.85.\n",
      "WARNING:drake:Differential IK started finding solutions again at time 29.871000000000002.\n",
      "WARNING:drake:Differential IK started returning status:\"stuck\" at time 29.884.\n"
     ]
    },
    {
     "name": "stdout",
     "output_type": "stream",
     "text": [
      "[0.0006461519677933631, -0.007565999108112394, -0.004750259143491282, 0.031994668643530295, 0.015518202146902423, 0.23107354666430446, -0.01616014752447438]\n"
     ]
    },
    {
     "name": "stderr",
     "output_type": "stream",
     "text": [
      "WARNING:drake:Differential IK started finding solutions again at time 30.349.\n"
     ]
    },
    {
     "name": "stdout",
     "output_type": "stream",
     "text": [
      "[-0.018086731998394497, -0.04281571355920349, 0.019510869184625846, -0.29697529597838584, -0.012356924432539015, 0.15795199496510628, 0.01191220409424085]\n",
      "[-0.07174845268314406, -0.09199002654026868, 0.015174667928074368, -0.80848891396763, 0.004330130878576715, 0.03476759675009788, -0.036137437697905686]\n"
     ]
    }
   ],
   "source": [
    "def teleop_3d():\n",
    "    meshcat.ResetRenderMode()\n",
    "    builder = DiagramBuilder()\n",
    "    scenario = construct_scenario()\n",
    "    station = builder.AddSystem(MakeHardwareStation(scenario, meshcat, package_xmls=['./package.xml']))\n",
    "    plant = station.GetSubsystemByName(\"plant\")\n",
    "    #station = builder.AddSystem(MakeHardwareStation(scenario, meshcat))\n",
    "    # TODO(russt): Replace with station.AddDiffIk(...)\n",
    "    controller_plant = station.GetSubsystemByName(\n",
    "        \"iiwa.controller\"\n",
    "    ).get_multibody_plant_for_control()\n",
    "    # Set up differential inverse kinematics.\n",
    "    differential_ik = AddIiwaDifferentialIK(\n",
    "        builder,\n",
    "        controller_plant,\n",
    "        frame=controller_plant.GetFrameByName(\"iiwa_link_7\"),\n",
    "    )\n",
    "    builder.Connect(\n",
    "        differential_ik.get_output_port(),\n",
    "        station.GetInputPort(\"iiwa.position\"),\n",
    "    )\n",
    "    builder.Connect(\n",
    "        station.GetOutputPort(\"iiwa.state_estimated\"),\n",
    "        differential_ik.GetInputPort(\"robot_state\"),\n",
    "    )\n",
    "\n",
    "    # Set up teleop widgets.\n",
    "    meshcat.DeleteAddedControls()\n",
    "    teleop = builder.AddSystem(\n",
    "        MeshcatPoseSliders(\n",
    "            meshcat,\n",
    "            lower_limit=[0, -0.5, -np.pi, -0.6, -0.8, 0.0],\n",
    "            upper_limit=[2 * np.pi, np.pi, np.pi, 0.8, 0.3, 1.1],\n",
    "        )\n",
    "    )\n",
    "    builder.Connect(\n",
    "        teleop.get_output_port(), differential_ik.GetInputPort(\"X_WE_desired\")\n",
    "    )\n",
    "    # Note: This is using \"Cheat Ports\". For it to work on hardware, we would\n",
    "    # need to construct the initial pose from the HardwareStation outputs.\n",
    "    plant = station.GetSubsystemByName(\"plant\")\n",
    "    ee_pose = builder.AddSystem(\n",
    "        ExtractBodyPose(\n",
    "            station.GetOutputPort(\"body_poses\"),\n",
    "            plant.GetBodyByName(\"iiwa_link_7\").index(),\n",
    "        )\n",
    "    )\n",
    "    builder.Connect(\n",
    "        station.GetOutputPort(\"body_poses\"), ee_pose.get_input_port()\n",
    "    )\n",
    "    builder.Connect(ee_pose.get_output_port(), teleop.get_input_port())\n",
    "    wsg_teleop = builder.AddSystem(WsgButton(meshcat))\n",
    "    builder.Connect(\n",
    "        wsg_teleop.get_output_port(0), station.GetInputPort(\"wsg.position\")\n",
    "    )\n",
    "\n",
    "    diagram = builder.Build()\n",
    "    simulator = Simulator(diagram)\n",
    "    simulator.get_mutable_context()\n",
    "    simulator_context = simulator.get_mutable_context()\n",
    "    plant_context = plant.GetMyMutableContextFromRoot(simulator_context)\n",
    "    if running_as_notebook:  # Then we're not just running as a test on CI.\n",
    "        simulator.set_target_realtime_rate(1.0)\n",
    "\n",
    "        meshcat.AddButton(\"Stop Simulation\", \"Escape\")\n",
    "        print(\"Press Escape to stop the simulation\")\n",
    "        while meshcat.GetButtonClicks(\"Stop Simulation\") < 1:\n",
    "            simulator.AdvanceTo(simulator.get_context().get_time() + 2.0)\n",
    "            print(simulator.get_context().get_continuous_state_vector())    \n",
    "        meshcat.DeleteButton(\"Stop Simulation\")\n",
    "\n",
    "    else:\n",
    "        simulator.AdvanceTo(0.1)\n",
    "\n",
    "\n",
    "teleop_3d()"
   ]
  }
 ],
 "metadata": {
  "kernelspec": {
   "display_name": ".venv",
   "language": "python",
   "name": "python3"
  },
  "language_info": {
   "codemirror_mode": {
    "name": "ipython",
    "version": 3
   },
   "file_extension": ".py",
   "mimetype": "text/x-python",
   "name": "python",
   "nbconvert_exporter": "python",
   "pygments_lexer": "ipython3",
   "version": "3.8.10"
  }
 },
 "nbformat": 4,
 "nbformat_minor": 2
}
