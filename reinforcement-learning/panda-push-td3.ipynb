{
  "cells": [
    {
      "cell_type": "code",
      "execution_count": 1,
      "metadata": {
        "id": "jSLmVRs4mQtk"
      },
      "outputs": [],
      "source": [
        "import gymnasium as gym\n",
        "import panda_gym\n"
      ]
    },
    {
      "cell_type": "code",
      "execution_count": 2,
      "metadata": {
        "colab": {
          "base_uri": "https://localhost:8080/",
          "height": 435
        },
        "id": "Pq8erHCznP3G",
        "outputId": "4e44e09b-39a6-41f6-cca0-a24cae0fb52f"
      },
      "outputs": [],
      "source": [
        "\n",
        "from stable_baselines3 import TD3\n",
        "from stable_baselines3.common.env_util import make_vec_env\n",
        "import PIL\n",
        "from stable_baselines3.common.logger import configure"
      ]
    },
    {
      "cell_type": "code",
      "execution_count": 14,
      "metadata": {
        "id": "op3TNv5YnR7d"
      },
      "outputs": [
        {
          "name": "stdout",
          "output_type": "stream",
          "text": [
            "argv[0]=--background_color_red=0.8745098114013672\n",
            "argv[1]=--background_color_green=0.21176470816135406\n",
            "argv[2]=--background_color_blue=0.1764705926179886\n"
          ]
        }
      ],
      "source": [
        "env = make_vec_env('PandaPush-v3',n_envs=1, seed=98)"
      ]
    },
    {
      "cell_type": "code",
      "execution_count": 15,
      "metadata": {
        "id": "_vPXPAqJnT7k"
      },
      "outputs": [
        {
          "name": "stdout",
          "output_type": "stream",
          "text": [
            "Logging to /tmp/sb3_log/\n"
          ]
        }
      ],
      "source": [
        "tmp_path = \"/tmp/sb3_log/\"\n",
        "new_logger = configure(tmp_path, [\"stdout\", \"csv\", \"tensorboard\"])"
      ]
    },
    {
      "cell_type": "code",
      "execution_count": 16,
      "metadata": {
        "id": "olDy0ObSnYSh"
      },
      "outputs": [],
      "source": [
        "model = TD3('MultiInputPolicy',\n",
        "            env,\n",
        "            verbose=0,\n",
        "            gamma=0.9,\n",
        "            learning_rate=1e-3)"
      ]
    },
    {
      "cell_type": "code",
      "execution_count": 17,
      "metadata": {
        "id": "T_A5uAPOnb6z"
      },
      "outputs": [],
      "source": [
        "model.set_logger(new_logger)"
      ]
    },
    {
      "cell_type": "code",
      "execution_count": 18,
      "metadata": {
        "id": "6yQjZW56neBK"
      },
      "outputs": [
        {
          "name": "stdout",
          "output_type": "stream",
          "text": [
            "---------------------------------\n",
            "| rollout/           |          |\n",
            "|    ep_len_mean     | 37.8     |\n",
            "|    ep_rew_mean     | -37.5    |\n",
            "|    success_rate    | 0.25     |\n",
            "| time/              |          |\n",
            "|    episodes        | 4        |\n",
            "|    fps             | 221      |\n",
            "|    time_elapsed    | 0        |\n",
            "|    total_timesteps | 151      |\n",
            "| train/             |          |\n",
            "|    actor_loss      | 0.911    |\n",
            "|    critic_loss     | 0.198    |\n",
            "|    learning_rate   | 0.001    |\n",
            "|    n_updates       | 50       |\n",
            "---------------------------------\n",
            "---------------------------------\n",
            "| rollout/           |          |\n",
            "|    ep_len_mean     | 43.9     |\n",
            "|    ep_rew_mean     | -43.8    |\n",
            "|    success_rate    | 0.125    |\n",
            "| time/              |          |\n",
            "|    episodes        | 8        |\n",
            "|    fps             | 131      |\n",
            "|    time_elapsed    | 2        |\n",
            "|    total_timesteps | 351      |\n",
            "| train/             |          |\n",
            "|    actor_loss      | 1.39     |\n",
            "|    critic_loss     | 0.0125   |\n",
            "|    learning_rate   | 0.001    |\n",
            "|    n_updates       | 250      |\n",
            "---------------------------------\n",
            "---------------------------------\n",
            "| rollout/           |          |\n",
            "|    ep_len_mean     | 45.9     |\n",
            "|    ep_rew_mean     | -45.8    |\n",
            "|    success_rate    | 0.0833   |\n",
            "| time/              |          |\n",
            "|    episodes        | 12       |\n",
            "|    fps             | 115      |\n",
            "|    time_elapsed    | 4        |\n",
            "|    total_timesteps | 551      |\n",
            "| train/             |          |\n",
            "|    actor_loss      | 1.75     |\n",
            "|    critic_loss     | 0.00665  |\n",
            "|    learning_rate   | 0.001    |\n",
            "|    n_updates       | 450      |\n",
            "---------------------------------\n",
            "---------------------------------\n",
            "| rollout/           |          |\n",
            "|    ep_len_mean     | 46.9     |\n",
            "|    ep_rew_mean     | -46.9    |\n",
            "|    success_rate    | 0.0625   |\n",
            "| time/              |          |\n",
            "|    episodes        | 16       |\n",
            "|    fps             | 110      |\n",
            "|    time_elapsed    | 6        |\n",
            "|    total_timesteps | 751      |\n",
            "| train/             |          |\n",
            "|    actor_loss      | 2.08     |\n",
            "|    critic_loss     | 0.0117   |\n",
            "|    learning_rate   | 0.001    |\n",
            "|    n_updates       | 650      |\n",
            "---------------------------------\n",
            "---------------------------------\n",
            "| rollout/           |          |\n",
            "|    ep_len_mean     | 47.5     |\n",
            "|    ep_rew_mean     | -47.5    |\n",
            "|    success_rate    | 0.05     |\n",
            "| time/              |          |\n",
            "|    episodes        | 20       |\n",
            "|    fps             | 102      |\n",
            "|    time_elapsed    | 9        |\n",
            "|    total_timesteps | 951      |\n",
            "| train/             |          |\n",
            "|    actor_loss      | 2.43     |\n",
            "|    critic_loss     | 0.0179   |\n",
            "|    learning_rate   | 0.001    |\n",
            "|    n_updates       | 850      |\n",
            "---------------------------------\n"
          ]
        },
        {
          "data": {
            "text/plain": [
              "<stable_baselines3.td3.td3.TD3 at 0x7fc2a5a32930>"
            ]
          },
          "execution_count": 18,
          "metadata": {},
          "output_type": "execute_result"
        }
      ],
      "source": [
        "model.learn(total_timesteps=1e3)"
      ]
    },
    {
      "cell_type": "code",
      "execution_count": 19,
      "metadata": {
        "id": "HqFToePDnjsv"
      },
      "outputs": [],
      "source": [
        "model.save('rl_models/td3_stablebaselines_agent')\n",
        "policy = model.policy\n",
        "policy.save(\"rl_policies/td3_policy_pandapush\")"
      ]
    },
    {
      "cell_type": "code",
      "execution_count": 22,
      "metadata": {
        "id": "4QKeKhpononY"
      },
      "outputs": [],
      "source": [
        "model = TD3.load('rl_models/td3_stablebaselines_agent')"
      ]
    },
    {
      "cell_type": "code",
      "execution_count": 23,
      "metadata": {
        "id": "VonnT6tHnqUB"
      },
      "outputs": [
        {
          "name": "stdout",
          "output_type": "stream",
          "text": [
            "Iteration:  0\n",
            "Iteration:  1\n",
            "Iteration:  2\n",
            "Iteration:  3\n",
            "Iteration:  4\n",
            "Iteration:  5\n",
            "Iteration:  6\n",
            "Iteration:  7\n",
            "Iteration:  8\n",
            "Iteration:  9\n",
            "Iteration:  10\n",
            "Iteration:  11\n",
            "Iteration:  12\n",
            "Iteration:  13\n",
            "Iteration:  14\n",
            "Iteration:  15\n",
            "Iteration:  16\n",
            "Iteration:  17\n",
            "Iteration:  18\n",
            "Iteration:  19\n",
            "Iteration:  20\n",
            "Iteration:  21\n",
            "Iteration:  22\n",
            "Iteration:  23\n",
            "Iteration:  24\n",
            "Iteration:  25\n",
            "Iteration:  26\n",
            "Iteration:  27\n",
            "Iteration:  28\n",
            "Iteration:  29\n",
            "Iteration:  30\n",
            "Iteration:  31\n",
            "Iteration:  32\n",
            "Iteration:  33\n",
            "Iteration:  34\n",
            "Iteration:  35\n",
            "Iteration:  36\n",
            "Iteration:  37\n",
            "Iteration:  38\n",
            "Iteration:  39\n",
            "Iteration:  40\n",
            "Iteration:  41\n",
            "Iteration:  42\n",
            "Iteration:  43\n",
            "Iteration:  44\n",
            "Iteration:  45\n",
            "Iteration:  46\n",
            "Iteration:  47\n",
            "Iteration:  48\n",
            "Iteration:  49\n"
          ]
        }
      ],
      "source": [
        "obs = env.reset()\n",
        "\n",
        "images = []\n",
        "for i in range(50):\n",
        "    action, _states = model.predict(obs)\n",
        "    obs = env.step(action)[0]\n",
        "    img = env.render()\n",
        "    img = PIL.Image.fromarray(img)\n",
        "    images.append(img)\n",
        "    print(\"Iteration: \",i)\n",
        "\n",
        "env.close()"
      ]
    },
    {
      "cell_type": "code",
      "execution_count": 24,
      "metadata": {
        "id": "7YiVYZujnwRC"
      },
      "outputs": [],
      "source": [
        "images[0].save('gif/td3_stablebaselines_example.gif',\n",
        "              save_all=True, append_images=images[1:],\n",
        "              optimize=False, duration=40, loop=0)"
      ]
    }
  ],
  "metadata": {
    "colab": {
      "provenance": []
    },
    "kernelspec": {
      "display_name": "Python 3",
      "name": "python3"
    },
    "language_info": {
      "codemirror_mode": {
        "name": "ipython",
        "version": 3
      },
      "file_extension": ".py",
      "mimetype": "text/x-python",
      "name": "python",
      "nbconvert_exporter": "python",
      "pygments_lexer": "ipython3",
      "version": "3.12.2"
    }
  },
  "nbformat": 4,
  "nbformat_minor": 0
}
