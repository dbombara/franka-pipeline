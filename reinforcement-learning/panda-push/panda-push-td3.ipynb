{
  "cells": [
    {
      "cell_type": "code",
      "execution_count": 1,
      "metadata": {
        "id": "jSLmVRs4mQtk"
      },
      "outputs": [],
      "source": [
        "import gymnasium as gym\n",
        "import panda_gym\n"
      ]
    },
    {
      "cell_type": "code",
      "execution_count": 28,
      "metadata": {
        "colab": {
          "base_uri": "https://localhost:8080/",
          "height": 435
        },
        "id": "Pq8erHCznP3G",
        "outputId": "4e44e09b-39a6-41f6-cca0-a24cae0fb52f"
      },
      "outputs": [],
      "source": [
        "\n",
        "from stable_baselines3 import TD3\n",
        "from stable_baselines3.common.env_util import make_vec_env\n",
        "import PIL\n",
        "from stable_baselines3.common.logger import configure\n",
        "from stable_baselines3.common.evaluation import evaluate_policy"
      ]
    },
    {
      "cell_type": "code",
      "execution_count": 20,
      "metadata": {
        "id": "op3TNv5YnR7d"
      },
      "outputs": [
        {
          "name": "stdout",
          "output_type": "stream",
          "text": [
            "argv[0]=--background_color_red=0.8745098114013672\n",
            "argv[1]=--background_color_green=0.21176470816135406\n",
            "argv[2]=--background_color_blue=0.1764705926179886\n"
          ]
        }
      ],
      "source": [
        "env = make_vec_env('PandaPush-v3',n_envs=1, seed=98) "
      ]
    },
    {
      "cell_type": "code",
      "execution_count": 21,
      "metadata": {
        "id": "_vPXPAqJnT7k"
      },
      "outputs": [
        {
          "name": "stdout",
          "output_type": "stream",
          "text": [
            "Logging to /tmp/sb3_log/\n"
          ]
        }
      ],
      "source": [
        "tmp_path = \"/tmp/sb3_log/\"\n",
        "new_logger = configure(tmp_path, [\"stdout\", \"csv\", \"tensorboard\"])"
      ]
    },
    {
      "cell_type": "code",
      "execution_count": 22,
      "metadata": {
        "id": "olDy0ObSnYSh"
      },
      "outputs": [
        {
          "name": "stdout",
          "output_type": "stream",
          "text": [
            "Using cpu device\n"
          ]
        }
      ],
      "source": [
        "model = TD3('MultiInputPolicy',\n",
        "            env,\n",
        "            batch_size=2048,\n",
        "            buffer_size=1000000,\n",
        "            gamma=0.95,\n",
        "            learning_rate=0.001,\n",
        "            policy_kwargs=dict(net_arch=[512, 512, 512], n_critics=2),\n",
        "            #replay_buffer_class='HerReplayBuffer',\n",
        "            #replay_buffer_kwargs= dict(online_sampling=True, goal_selection_strategy='future',n_sampled_goal=4),\n",
        "            tau=0.05,\n",
        "            verbose=1)"
      ]
    },
    {
      "cell_type": "raw",
      "metadata": {},
      "source": [
        "OrderedDict([('batch_size', 2048),\n",
        "             ('buffer_size', 1000000),\n",
        "             ('env_wrapper', 'sb3_contrib.common.wrappers.TimeFeatureWrapper'),\n",
        "             ('gamma', 0.95),\n",
        "             ('learning_rate', 0.001),\n",
        "             ('n_timesteps', 1000000.0),\n",
        "             ('policy', 'MultiInputPolicy'),\n",
        "             ('policy_kwargs', 'dict(net_arch=[512, 512, 512], n_critics=2)'),\n",
        "             ('replay_buffer_class', 'HerReplayBuffer'),\n",
        "             ('replay_buffer_kwargs',\n",
        "              \"dict( online_sampling=True, goal_selection_strategy='future', \"\n",
        "              'n_sampled_goal=4, )'),\n",
        "             ('tau', 0.05),\n",
        "             ('normalize', False)])"
      ]
    },
    {
      "cell_type": "code",
      "execution_count": 23,
      "metadata": {
        "id": "T_A5uAPOnb6z"
      },
      "outputs": [],
      "source": [
        "model.set_logger(new_logger)"
      ]
    },
    {
      "cell_type": "code",
      "execution_count": 25,
      "metadata": {
        "id": "6yQjZW56neBK"
      },
      "outputs": [
        {
          "name": "stdout",
          "output_type": "stream",
          "text": [
            "---------------------------------\n",
            "| rollout/           |          |\n",
            "|    ep_len_mean     | 50       |\n",
            "|    ep_rew_mean     | -50      |\n",
            "|    success_rate    | 0        |\n",
            "| time/              |          |\n",
            "|    episodes        | 4        |\n",
            "|    fps             | 49       |\n",
            "|    time_elapsed    | 4        |\n",
            "|    total_timesteps | 200      |\n",
            "| train/             |          |\n",
            "|    actor_loss      | 4.29     |\n",
            "|    critic_loss     | 0.00636  |\n",
            "|    learning_rate   | 0.001    |\n",
            "|    n_updates       | 190      |\n",
            "---------------------------------\n",
            "---------------------------------\n",
            "| rollout/           |          |\n",
            "|    ep_len_mean     | 43.9     |\n",
            "|    ep_rew_mean     | -43.8    |\n",
            "|    success_rate    | 0.125    |\n",
            "| time/              |          |\n",
            "|    episodes        | 8        |\n",
            "|    fps             | 35       |\n",
            "|    time_elapsed    | 10       |\n",
            "|    total_timesteps | 351      |\n",
            "| train/             |          |\n",
            "|    actor_loss      | 6.57     |\n",
            "|    critic_loss     | 0.00965  |\n",
            "|    learning_rate   | 0.001    |\n",
            "|    n_updates       | 341      |\n",
            "---------------------------------\n",
            "---------------------------------\n",
            "| rollout/           |          |\n",
            "|    ep_len_mean     | 45.9     |\n",
            "|    ep_rew_mean     | -45.8    |\n",
            "|    success_rate    | 0.0833   |\n",
            "| time/              |          |\n",
            "|    episodes        | 12       |\n",
            "|    fps             | 30       |\n",
            "|    time_elapsed    | 18       |\n",
            "|    total_timesteps | 551      |\n",
            "| train/             |          |\n",
            "|    actor_loss      | 8.21     |\n",
            "|    critic_loss     | 0.114    |\n",
            "|    learning_rate   | 0.001    |\n",
            "|    n_updates       | 541      |\n",
            "---------------------------------\n",
            "---------------------------------\n",
            "| rollout/           |          |\n",
            "|    ep_len_mean     | 46.9     |\n",
            "|    ep_rew_mean     | -46.9    |\n",
            "|    success_rate    | 0.0625   |\n",
            "| time/              |          |\n",
            "|    episodes        | 16       |\n",
            "|    fps             | 28       |\n",
            "|    time_elapsed    | 25       |\n",
            "|    total_timesteps | 751      |\n",
            "| train/             |          |\n",
            "|    actor_loss      | 10.6     |\n",
            "|    critic_loss     | 0.0256   |\n",
            "|    learning_rate   | 0.001    |\n",
            "|    n_updates       | 741      |\n",
            "---------------------------------\n",
            "---------------------------------\n",
            "| rollout/           |          |\n",
            "|    ep_len_mean     | 47.5     |\n",
            "|    ep_rew_mean     | -47.5    |\n",
            "|    success_rate    | 0.05     |\n",
            "| time/              |          |\n",
            "|    episodes        | 20       |\n",
            "|    fps             | 28       |\n",
            "|    time_elapsed    | 33       |\n",
            "|    total_timesteps | 951      |\n",
            "| train/             |          |\n",
            "|    actor_loss      | 11.6     |\n",
            "|    critic_loss     | 0.0981   |\n",
            "|    learning_rate   | 0.001    |\n",
            "|    n_updates       | 941      |\n",
            "---------------------------------\n"
          ]
        },
        {
          "data": {
            "text/plain": [
              "<stable_baselines3.td3.td3.TD3 at 0x31e3449d0>"
            ]
          },
          "execution_count": 25,
          "metadata": {},
          "output_type": "execute_result"
        }
      ],
      "source": [
        "model.learn(total_timesteps=1000.0)"
      ]
    },
    {
      "cell_type": "code",
      "execution_count": 8,
      "metadata": {
        "id": "HqFToePDnjsv"
      },
      "outputs": [],
      "source": [
        "model.save('agent/td3_stablebaselines_agent')\n",
        "policy = model.policy\n",
        "policy.save(\"policy/td3_policy_pandapush\")"
      ]
    },
    {
      "cell_type": "code",
      "execution_count": 9,
      "metadata": {
        "id": "4QKeKhpononY"
      },
      "outputs": [],
      "source": [
        "model = TD3.load('agent/td3_stablebaselines_agent')"
      ]
    },
    {
      "cell_type": "code",
      "execution_count": 29,
      "metadata": {},
      "outputs": [
        {
          "data": {
            "text/plain": [
              "(-50.0, 0.0)"
            ]
          },
          "execution_count": 29,
          "metadata": {},
          "output_type": "execute_result"
        }
      ],
      "source": [
        "evaluate_policy(model, env)"
      ]
    },
    {
      "cell_type": "code",
      "execution_count": 10,
      "metadata": {
        "id": "VonnT6tHnqUB"
      },
      "outputs": [
        {
          "name": "stdout",
          "output_type": "stream",
          "text": [
            "Iteration:  0\n",
            "Iteration:  1\n",
            "Iteration:  2\n",
            "Iteration:  3\n",
            "Iteration:  4\n",
            "Iteration:  5\n",
            "Iteration:  6\n",
            "Iteration:  7\n",
            "Iteration:  8\n",
            "Iteration:  9\n",
            "Iteration:  10\n",
            "Iteration:  11\n",
            "Iteration:  12\n",
            "Iteration:  13\n",
            "Iteration:  14\n",
            "Iteration:  15\n",
            "Iteration:  16\n",
            "Iteration:  17\n",
            "Iteration:  18\n",
            "Iteration:  19\n",
            "Iteration:  20\n",
            "Iteration:  21\n",
            "Iteration:  22\n",
            "Iteration:  23\n",
            "Iteration:  24\n",
            "Iteration:  25\n",
            "Iteration:  26\n",
            "Iteration:  27\n",
            "Iteration:  28\n",
            "Iteration:  29\n",
            "Iteration:  30\n",
            "Iteration:  31\n",
            "Iteration:  32\n",
            "Iteration:  33\n",
            "Iteration:  34\n",
            "Iteration:  35\n",
            "Iteration:  36\n",
            "Iteration:  37\n",
            "Iteration:  38\n",
            "Iteration:  39\n",
            "Iteration:  40\n",
            "Iteration:  41\n",
            "Iteration:  42\n",
            "Iteration:  43\n",
            "Iteration:  44\n",
            "Iteration:  45\n",
            "Iteration:  46\n",
            "Iteration:  47\n",
            "Iteration:  48\n",
            "Iteration:  49\n"
          ]
        }
      ],
      "source": [
        "obs = env.reset()\n",
        "\n",
        "images = []\n",
        "for i in range(50):\n",
        "    action, _states = model.predict(obs)\n",
        "    obs = env.step(action)[0]\n",
        "    img = env.render()\n",
        "    img = PIL.Image.fromarray(img)\n",
        "    images.append(img)\n",
        "    print(\"Iteration: \",i)\n",
        "\n",
        "env.close()"
      ]
    },
    {
      "cell_type": "code",
      "execution_count": 11,
      "metadata": {
        "id": "7YiVYZujnwRC"
      },
      "outputs": [],
      "source": [
        "images[0].save('gif/td3_stablebaselines_example.gif',\n",
        "              save_all=True, append_images=images[1:],\n",
        "              optimize=False, duration=40, loop=0)"
      ]
    }
  ],
  "metadata": {
    "colab": {
      "provenance": []
    },
    "kernelspec": {
      "display_name": "Python 3",
      "name": "python3"
    },
    "language_info": {
      "codemirror_mode": {
        "name": "ipython",
        "version": 3
      },
      "file_extension": ".py",
      "mimetype": "text/x-python",
      "name": "python",
      "nbconvert_exporter": "python",
      "pygments_lexer": "ipython3",
      "version": "3.10.9"
    }
  },
  "nbformat": 4,
  "nbformat_minor": 0
}
