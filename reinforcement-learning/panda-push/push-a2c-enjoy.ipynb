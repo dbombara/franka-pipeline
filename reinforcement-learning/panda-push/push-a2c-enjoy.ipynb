{
 "cells": [
  {
   "cell_type": "code",
   "execution_count": 5,
   "metadata": {},
   "outputs": [],
   "source": [
    "import gymnasium as gym\n",
    "import numpy as np\n",
    "import panda_gym\n",
    "from stable_baselines3 import A2C\n",
    "from stable_baselines3.common.env_util import make_vec_env\n",
    "import PIL\n",
    "from PIL import Image, ImageDraw"
   ]
  },
  {
   "cell_type": "code",
   "execution_count": 6,
   "metadata": {},
   "outputs": [],
   "source": [
    "# Create the environment\n",
    "env = make_vec_env('PandaPush-v3',n_envs=4, seed=98)"
   ]
  },
  {
   "cell_type": "code",
   "execution_count": 7,
   "metadata": {},
   "outputs": [],
   "source": [
    "# Load the trained agent\n",
    "model = A2C.load('agent/a2c_pandapush_agent')\n",
    "policy = model.policy"
   ]
  },
  {
   "cell_type": "code",
   "execution_count": 8,
   "metadata": {},
   "outputs": [],
   "source": [
    "# Reset the environment and get initial observation\n",
    "obs = env.reset()\n",
    "\n",
    "# Demonstrate the trained policy\n",
    "images = []\n",
    "for i in range(200):\n",
    "    action, _states = model.predict(obs)\n",
    "    obs = env.step(action)[0]\n",
    "    img = env.render()\n",
    "    img = PIL.Image.fromarray(img)\n",
    "    images.append(img)\n",
    "    \n",
    "env.close()"
   ]
  },
  {
   "cell_type": "code",
   "execution_count": 9,
   "metadata": {},
   "outputs": [],
   "source": [
    "# Save the policy demonstration as a gif\n",
    "images[0].save('gif/a2c_push.gif', \n",
    "              save_all=True, append_images=images[1:],\n",
    "              optimize=False, duration=40, loop=0)"
   ]
  }
 ],
 "metadata": {
  "kernelspec": {
   "display_name": ".venv",
   "language": "python",
   "name": "python3"
  },
  "language_info": {
   "codemirror_mode": {
    "name": "ipython",
    "version": 3
   },
   "file_extension": ".py",
   "mimetype": "text/x-python",
   "name": "python",
   "nbconvert_exporter": "python",
   "pygments_lexer": "ipython3",
   "version": "3.8.10"
  }
 },
 "nbformat": 4,
 "nbformat_minor": 2
}
