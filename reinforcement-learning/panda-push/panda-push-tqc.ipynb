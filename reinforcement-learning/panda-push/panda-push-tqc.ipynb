{
 "cells": [
  {
   "cell_type": "markdown",
   "metadata": {},
   "source": [
    "OrderedDict([('batch_size', 2048),\n",
    "             ('buffer_size', 1000000),\n",
    "             ('env_wrapper', 'sb3_contrib.common.wrappers.TimeFeatureWrapper'),\n",
    "             ('gamma', 0.95),\n",
    "             ('learning_rate', 0.001),\n",
    "             ('n_timesteps', 1000000.0),\n",
    "             ('policy', 'MultiInputPolicy'),\n",
    "             ('policy_kwargs', 'dict(net_arch=[512, 512, 512], n_critics=2)'),\n",
    "             ('replay_buffer_class', 'HerReplayBuffer'),\n",
    "             ('replay_buffer_kwargs',\n",
    "              \"dict( online_sampling=True, goal_selection_strategy='future', \"\n",
    "              'n_sampled_goal=4, )'),\n",
    "             ('tau', 0.05),\n",
    "             ('normalize', False)])"
   ]
  },
  {
   "cell_type": "code",
   "execution_count": 2,
   "metadata": {},
   "outputs": [
    {
     "name": "stdout",
     "output_type": "stream",
     "text": [
      "Loading latest experiment, id=0\n"
     ]
    },
    {
     "ename": "AssertionError",
     "evalue": "The /Users/davidbombara_1/Library/Jupyter/runtime/kernel-v2-80431agVCJN4Qbk7U.json/ppo folder was not found",
     "output_type": "error",
     "traceback": [
      "\u001b[0;31m---------------------------------------------------------------------------\u001b[0m",
      "\u001b[0;31mAssertionError\u001b[0m                            Traceback (most recent call last)",
      "Cell \u001b[0;32mIn[2], line 6\u001b[0m\n\u001b[1;32m      1\u001b[0m \u001b[38;5;66;03m# Download model and save it into the logs/ folder\u001b[39;00m\n\u001b[1;32m      2\u001b[0m \u001b[38;5;66;03m# python -m rl_zoo3.load_from_hub --algo tqc --env PandaPush-v1 -orga sb3 -f logs/\u001b[39;00m\n\u001b[1;32m      3\u001b[0m \u001b[38;5;66;03m# python enjoy.py --algo tqc --env PandaPush-v1  -f logs/\u001b[39;00m\n\u001b[1;32m      4\u001b[0m \u001b[38;5;28;01mfrom\u001b[39;00m \u001b[38;5;21;01mrl_zoo3\u001b[39;00m\u001b[38;5;21;01m.\u001b[39;00m\u001b[38;5;21;01menjoy\u001b[39;00m \u001b[38;5;28;01mimport\u001b[39;00m enjoy\n\u001b[0;32m----> 6\u001b[0m \u001b[43menjoy\u001b[49m\u001b[43m(\u001b[49m\u001b[43m)\u001b[49m\n",
      "File \u001b[0;32m~/Downloads/ComputationalRobotics/franka-pipeline/.venv/lib/python3.10/site-packages/rl_zoo3/enjoy.py:100\u001b[0m, in \u001b[0;36menjoy\u001b[0;34m()\u001b[0m\n\u001b[1;32m     96\u001b[0m \u001b[38;5;28;01mexcept\u001b[39;00m (\u001b[38;5;167;01mAssertionError\u001b[39;00m, \u001b[38;5;167;01mValueError\u001b[39;00m) \u001b[38;5;28;01mas\u001b[39;00m e:\n\u001b[1;32m     97\u001b[0m     \u001b[38;5;66;03m# Special case for rl-trained agents\u001b[39;00m\n\u001b[1;32m     98\u001b[0m     \u001b[38;5;66;03m# auto-download from the hub\u001b[39;00m\n\u001b[1;32m     99\u001b[0m     \u001b[38;5;28;01mif\u001b[39;00m \u001b[38;5;124m\"\u001b[39m\u001b[38;5;124mrl-trained-agents\u001b[39m\u001b[38;5;124m\"\u001b[39m \u001b[38;5;129;01mnot\u001b[39;00m \u001b[38;5;129;01min\u001b[39;00m folder:\n\u001b[0;32m--> 100\u001b[0m         \u001b[38;5;28;01mraise\u001b[39;00m e\n\u001b[1;32m    101\u001b[0m     \u001b[38;5;28;01melse\u001b[39;00m:\n\u001b[1;32m    102\u001b[0m         \u001b[38;5;28mprint\u001b[39m(\u001b[38;5;124m\"\u001b[39m\u001b[38;5;124mPretrained model not found, trying to download it from sb3 Huggingface hub: https://huggingface.co/sb3\u001b[39m\u001b[38;5;124m\"\u001b[39m)\n",
      "File \u001b[0;32m~/Downloads/ComputationalRobotics/franka-pipeline/.venv/lib/python3.10/site-packages/rl_zoo3/enjoy.py:87\u001b[0m, in \u001b[0;36menjoy\u001b[0;34m()\u001b[0m\n\u001b[1;32m     84\u001b[0m folder \u001b[38;5;241m=\u001b[39m args\u001b[38;5;241m.\u001b[39mfolder\n\u001b[1;32m     86\u001b[0m \u001b[38;5;28;01mtry\u001b[39;00m:\n\u001b[0;32m---> 87\u001b[0m     _, model_path, log_path \u001b[38;5;241m=\u001b[39m \u001b[43mget_model_path\u001b[49m\u001b[43m(\u001b[49m\n\u001b[1;32m     88\u001b[0m \u001b[43m        \u001b[49m\u001b[43margs\u001b[49m\u001b[38;5;241;43m.\u001b[39;49m\u001b[43mexp_id\u001b[49m\u001b[43m,\u001b[49m\n\u001b[1;32m     89\u001b[0m \u001b[43m        \u001b[49m\u001b[43mfolder\u001b[49m\u001b[43m,\u001b[49m\n\u001b[1;32m     90\u001b[0m \u001b[43m        \u001b[49m\u001b[43malgo\u001b[49m\u001b[43m,\u001b[49m\n\u001b[1;32m     91\u001b[0m \u001b[43m        \u001b[49m\u001b[43menv_name\u001b[49m\u001b[43m,\u001b[49m\n\u001b[1;32m     92\u001b[0m \u001b[43m        \u001b[49m\u001b[43margs\u001b[49m\u001b[38;5;241;43m.\u001b[39;49m\u001b[43mload_best\u001b[49m\u001b[43m,\u001b[49m\n\u001b[1;32m     93\u001b[0m \u001b[43m        \u001b[49m\u001b[43margs\u001b[49m\u001b[38;5;241;43m.\u001b[39;49m\u001b[43mload_checkpoint\u001b[49m\u001b[43m,\u001b[49m\n\u001b[1;32m     94\u001b[0m \u001b[43m        \u001b[49m\u001b[43margs\u001b[49m\u001b[38;5;241;43m.\u001b[39;49m\u001b[43mload_last_checkpoint\u001b[49m\u001b[43m,\u001b[49m\n\u001b[1;32m     95\u001b[0m \u001b[43m    \u001b[49m\u001b[43m)\u001b[49m\n\u001b[1;32m     96\u001b[0m \u001b[38;5;28;01mexcept\u001b[39;00m (\u001b[38;5;167;01mAssertionError\u001b[39;00m, \u001b[38;5;167;01mValueError\u001b[39;00m) \u001b[38;5;28;01mas\u001b[39;00m e:\n\u001b[1;32m     97\u001b[0m     \u001b[38;5;66;03m# Special case for rl-trained agents\u001b[39;00m\n\u001b[1;32m     98\u001b[0m     \u001b[38;5;66;03m# auto-download from the hub\u001b[39;00m\n\u001b[1;32m     99\u001b[0m     \u001b[38;5;28;01mif\u001b[39;00m \u001b[38;5;124m\"\u001b[39m\u001b[38;5;124mrl-trained-agents\u001b[39m\u001b[38;5;124m\"\u001b[39m \u001b[38;5;129;01mnot\u001b[39;00m \u001b[38;5;129;01min\u001b[39;00m folder:\n",
      "File \u001b[0;32m~/Downloads/ComputationalRobotics/franka-pipeline/.venv/lib/python3.10/site-packages/rl_zoo3/utils.py:460\u001b[0m, in \u001b[0;36mget_model_path\u001b[0;34m(exp_id, folder, algo, env_name, load_best, load_checkpoint, load_last_checkpoint)\u001b[0m\n\u001b[1;32m    457\u001b[0m \u001b[38;5;28;01melse\u001b[39;00m:\n\u001b[1;32m    458\u001b[0m     log_path \u001b[38;5;241m=\u001b[39m os\u001b[38;5;241m.\u001b[39mpath\u001b[38;5;241m.\u001b[39mjoin(folder, algo)\n\u001b[0;32m--> 460\u001b[0m \u001b[38;5;28;01massert\u001b[39;00m os\u001b[38;5;241m.\u001b[39mpath\u001b[38;5;241m.\u001b[39misdir(log_path), \u001b[38;5;124mf\u001b[39m\u001b[38;5;124m\"\u001b[39m\u001b[38;5;124mThe \u001b[39m\u001b[38;5;132;01m{\u001b[39;00mlog_path\u001b[38;5;132;01m}\u001b[39;00m\u001b[38;5;124m folder was not found\u001b[39m\u001b[38;5;124m\"\u001b[39m\n\u001b[1;32m    462\u001b[0m model_name \u001b[38;5;241m=\u001b[39m ModelName(algo, env_name)\n\u001b[1;32m    464\u001b[0m \u001b[38;5;28;01mif\u001b[39;00m load_best:\n",
      "\u001b[0;31mAssertionError\u001b[0m: The /Users/davidbombara_1/Library/Jupyter/runtime/kernel-v2-80431agVCJN4Qbk7U.json/ppo folder was not found"
     ]
    }
   ],
   "source": [
    "# Download model and save it into the logs/ folder\n",
    "# python -m rl_zoo3.load_from_hub --algo tqc --env PandaPush-v1 -orga sb3 -f logs/\n",
    "# python enjoy.py --algo tqc --env PandaPush-v1  -f logs/\n",
    "from rl_zoo3.enjoy import enjoy\n",
    "\n",
    "enjoy()"
   ]
  }
 ],
 "metadata": {
  "kernelspec": {
   "display_name": ".venv",
   "language": "python",
   "name": "python3"
  },
  "language_info": {
   "codemirror_mode": {
    "name": "ipython",
    "version": 3
   },
   "file_extension": ".py",
   "mimetype": "text/x-python",
   "name": "python",
   "nbconvert_exporter": "python",
   "pygments_lexer": "ipython3",
   "version": "3.10.9"
  }
 },
 "nbformat": 4,
 "nbformat_minor": 2
}
