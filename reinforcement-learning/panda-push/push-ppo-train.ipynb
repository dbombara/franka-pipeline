{
 "cells": [
  {
   "cell_type": "code",
   "execution_count": 5,
   "metadata": {},
   "outputs": [
    {
     "ename": "ImportError",
     "evalue": "cannot import name 'ActorCriticCnnPolicy' from 'stable_baselines3.ppo' (/home/turing/Documents/david/franka-pipeline/.venv/lib/python3.8/site-packages/stable_baselines3/ppo/__init__.py)",
     "output_type": "error",
     "traceback": [
      "\u001b[0;31m---------------------------------------------------------------------------\u001b[0m",
      "\u001b[0;31mImportError\u001b[0m                               Traceback (most recent call last)",
      "Cell \u001b[0;32mIn[5], line 4\u001b[0m\n\u001b[1;32m      1\u001b[0m \u001b[38;5;66;03m#import gymnasium as gym\u001b[39;00m\n\u001b[1;32m      2\u001b[0m \u001b[38;5;66;03m#import numpy as np\u001b[39;00m\n\u001b[1;32m      3\u001b[0m \u001b[38;5;28;01mfrom\u001b[39;00m \u001b[38;5;21;01mstable_baselines3\u001b[39;00m \u001b[38;5;28;01mimport\u001b[39;00m PPO\n\u001b[0;32m----> 4\u001b[0m \u001b[38;5;28;01mfrom\u001b[39;00m \u001b[38;5;21;01mstable_baselines3\u001b[39;00m\u001b[38;5;21;01m.\u001b[39;00m\u001b[38;5;21;01mppo\u001b[39;00m \u001b[38;5;28;01mimport\u001b[39;00m ActorCriticCnnPolicy\n\u001b[1;32m      5\u001b[0m \u001b[38;5;28;01mfrom\u001b[39;00m \u001b[38;5;21;01mstable_baselines3\u001b[39;00m\u001b[38;5;21;01m.\u001b[39;00m\u001b[38;5;21;01mcommon\u001b[39;00m\u001b[38;5;21;01m.\u001b[39;00m\u001b[38;5;21;01menv_util\u001b[39;00m \u001b[38;5;28;01mimport\u001b[39;00m make_vec_env\n\u001b[1;32m      6\u001b[0m \u001b[38;5;28;01mimport\u001b[39;00m \u001b[38;5;21;01mPIL\u001b[39;00m\n",
      "\u001b[0;31mImportError\u001b[0m: cannot import name 'ActorCriticCnnPolicy' from 'stable_baselines3.ppo' (/home/turing/Documents/david/franka-pipeline/.venv/lib/python3.8/site-packages/stable_baselines3/ppo/__init__.py)"
     ]
    }
   ],
   "source": [
    "#import gymnasium as gym\n",
    "#import numpy as np\n",
    "from stable_baselines3 import PPO\n",
    "from stable_baselines3.common.env_util import make_vec_env\n",
    "import PIL\n",
    "#from PIL import Image, ImageDraw\n",
    "import panda_gym"
   ]
  },
  {
   "cell_type": "code",
   "execution_count": 6,
   "metadata": {},
   "outputs": [
    {
     "name": "stdout",
     "output_type": "stream",
     "text": [
      "argv[0]=--background_color_red=0.8745098114013672\n",
      "argv[1]=--background_color_green=0.21176470816135406\n",
      "argv[2]=--background_color_blue=0.1764705926179886\n",
      "argv[0]=--background_color_red=0.8745098114013672\n",
      "argv[1]=--background_color_green=0.21176470816135406\n",
      "argv[2]=--background_color_blue=0.1764705926179886\n",
      "argv[0]=--background_color_red=0.8745098114013672\n",
      "argv[1]=--background_color_green=0.21176470816135406\n",
      "argv[2]=--background_color_blue=0.1764705926179886\n",
      "argv[0]=--background_color_red=0.8745098114013672\n",
      "argv[1]=--background_color_green=0.21176470816135406\n",
      "argv[2]=--background_color_blue=0.1764705926179886\n"
     ]
    }
   ],
   "source": [
    "\n",
    "# Create the environment\n",
    "#env = make_vec_env('Pendulum-v1',n_envs=4, seed=98)\n",
    "env = make_vec_env('PandaPush-v3',n_envs=4, seed=98)"
   ]
  },
  {
   "cell_type": "code",
   "execution_count": 11,
   "metadata": {},
   "outputs": [
    {
     "name": "stdout",
     "output_type": "stream",
     "text": [
      "Using cuda device\n"
     ]
    }
   ],
   "source": [
    "\n",
    "# Define the model (PPO works well for continuous actions)\n",
    "model = PPO(policy='MultiInputPolicy', \n",
    "            env=env,\n",
    "            learning_rate=0.1,\n",
    "            n_steps=2048,\n",
    "            batch_size=64,\n",
    "            n_epochs=10,\n",
    "            gamma=0.99,\n",
    "            gae_lambda=0.95,\n",
    "            clip_range=0.2, \n",
    "            clip_range_vf=None,\n",
    "            normalize_advantage=True,\n",
    "            ent_coef=0,\n",
    "            vf_coef=0.5,\n",
    "            max_grad_norm=0.5,\n",
    "            use_sde=False,\n",
    "            sde_sample_freq=-1,\n",
    "            rollout_buffer_class=None,\n",
    "            rollout_buffer_kwargs=None,\n",
    "            target_kl=None, \n",
    "            verbose=1)"
   ]
  },
  {
   "cell_type": "code",
   "execution_count": null,
   "metadata": {},
   "outputs": [],
   "source": [
    "\n",
    "# Train for the specified timesteps \n",
    "model.learn(total_timesteps=5e5)"
   ]
  },
  {
   "cell_type": "code",
   "execution_count": 9,
   "metadata": {},
   "outputs": [
    {
     "name": "stdout",
     "output_type": "stream",
     "text": [
      "Saving agent...\n",
      "Saving policy...\n",
      "Done\n"
     ]
    }
   ],
   "source": [
    "\n",
    "# Save the trained agent\n",
    "print(\"Saving agent...\")\n",
    "model.save('agent/ppo_pandapush_agent')\n",
    "policy = model.policy\n",
    "print(\"Saving policy...\")\n",
    "policy.save(\"policy/ppo_policy_pandapush\")\n",
    "print(\"Done\")"
   ]
  }
 ],
 "metadata": {
  "kernelspec": {
   "display_name": ".venv",
   "language": "python",
   "name": "python3"
  },
  "language_info": {
   "codemirror_mode": {
    "name": "ipython",
    "version": 3
   },
   "file_extension": ".py",
   "mimetype": "text/x-python",
   "name": "python",
   "nbconvert_exporter": "python",
   "pygments_lexer": "ipython3",
   "version": "3.8.10"
  }
 },
 "nbformat": 4,
 "nbformat_minor": 2
}
