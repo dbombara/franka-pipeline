{
 "cells": [
  {
   "cell_type": "markdown",
   "metadata": {},
   "source": [
    "# Examples\n",
    "\n",
    "This notebooks holds the examples from the paper `Taming the Panda with Python`."
   ]
  },
  {
   "cell_type": "code",
   "execution_count": 2,
   "metadata": {},
   "outputs": [],
   "source": [
    "# Panda hostname/IP and Desk login information of your robot\n",
    "hostname = '172.16.0.2'\n",
    "username = 'franka'\n",
    "password = 'panda5431!'\n",
    "\n",
    "# panda-py is chatty, activate information log level\n",
    "import logging\n",
    "logging.basicConfig(level=logging.INFO)"
   ]
  },
  {
   "cell_type": "markdown",
   "metadata": {},
   "source": [
    "## Code Block 1\n",
    "\n",
    "Use the Desk client to connect to the web-application running on the control unit to unlock the brakes and activate the Franka Research Interface (FCI) for robot torque control."
   ]
  },
  {
   "cell_type": "code",
   "execution_count": 3,
   "metadata": {},
   "outputs": [
    {
     "name": "stderr",
     "output_type": "stream",
     "text": [
      "INFO:desk:Login succesful.\n",
      "WARNING:desk:Cannot take control. User franka is in control.\n"
     ]
    }
   ],
   "source": [
    "import panda_py\n",
    "\n",
    "desk = panda_py.Desk(hostname, username, password)"
   ]
  },
  {
   "cell_type": "code",
   "execution_count": 4,
   "metadata": {},
   "outputs": [
    {
     "ename": "ConnectionError",
     "evalue": "",
     "output_type": "error",
     "traceback": [
      "\u001b[0;31m---------------------------------------------------------------------------\u001b[0m",
      "\u001b[0;31mConnectionError\u001b[0m                           Traceback (most recent call last)",
      "Cell \u001b[0;32mIn[4], line 1\u001b[0m\n\u001b[0;32m----> 1\u001b[0m \u001b[43mdesk\u001b[49m\u001b[38;5;241;43m.\u001b[39;49m\u001b[43munlock\u001b[49m\u001b[43m(\u001b[49m\u001b[43m)\u001b[49m\n",
      "File \u001b[0;32m~/Documents/panda-py/src/panda_py/__init__.py:135\u001b[0m, in \u001b[0;36mDesk.unlock\u001b[0;34m(self, force)\u001b[0m\n\u001b[1;32m    132\u001b[0m \u001b[38;5;28;01melif\u001b[39;00m \u001b[38;5;28mself\u001b[39m\u001b[38;5;241m.\u001b[39m_platform \u001b[38;5;241m==\u001b[39m \u001b[38;5;124m'\u001b[39m\u001b[38;5;124mfr3\u001b[39m\u001b[38;5;124m'\u001b[39m:\n\u001b[1;32m    133\u001b[0m   url \u001b[38;5;241m=\u001b[39m \u001b[38;5;124m'\u001b[39m\u001b[38;5;124m/desk/api/joints/unlock\u001b[39m\u001b[38;5;124m'\u001b[39m\n\u001b[0;32m--> 135\u001b[0m \u001b[38;5;28;43mself\u001b[39;49m\u001b[38;5;241;43m.\u001b[39;49m\u001b[43m_request\u001b[49m\u001b[43m(\u001b[49m\u001b[38;5;124;43m'\u001b[39;49m\u001b[38;5;124;43mpost\u001b[39;49m\u001b[38;5;124;43m'\u001b[39;49m\u001b[43m,\u001b[49m\n\u001b[1;32m    136\u001b[0m \u001b[43m              \u001b[49m\u001b[43murl\u001b[49m\u001b[43m,\u001b[49m\n\u001b[1;32m    137\u001b[0m \u001b[43m              \u001b[49m\u001b[43mfiles\u001b[49m\u001b[38;5;241;43m=\u001b[39;49m\u001b[43m{\u001b[49m\u001b[38;5;124;43m'\u001b[39;49m\u001b[38;5;124;43mforce\u001b[39;49m\u001b[38;5;124;43m'\u001b[39;49m\u001b[43m:\u001b[49m\u001b[43m \u001b[49m\u001b[43mforce\u001b[49m\u001b[43m}\u001b[49m\u001b[43m,\u001b[49m\n\u001b[1;32m    138\u001b[0m \u001b[43m              \u001b[49m\u001b[43mheaders\u001b[49m\u001b[38;5;241;43m=\u001b[39;49m\u001b[43m{\u001b[49m\u001b[38;5;124;43m'\u001b[39;49m\u001b[38;5;124;43mX-Control-Token\u001b[39;49m\u001b[38;5;124;43m'\u001b[39;49m\u001b[43m:\u001b[49m\u001b[43m \u001b[49m\u001b[38;5;28;43mself\u001b[39;49m\u001b[38;5;241;43m.\u001b[39;49m\u001b[43m_token\u001b[49m\u001b[38;5;241;43m.\u001b[39;49m\u001b[43mtoken\u001b[49m\u001b[43m}\u001b[49m\u001b[43m)\u001b[49m\n",
      "File \u001b[0;32m~/Documents/panda-py/src/panda_py/__init__.py:334\u001b[0m, in \u001b[0;36mDesk._request\u001b[0;34m(self, method, url, json, headers, files)\u001b[0m\n\u001b[1;32m    328\u001b[0m response: requests\u001b[38;5;241m.\u001b[39mResponse \u001b[38;5;241m=\u001b[39m fun(parse\u001b[38;5;241m.\u001b[39murljoin(\u001b[38;5;124mf\u001b[39m\u001b[38;5;124m'\u001b[39m\u001b[38;5;124mhttps://\u001b[39m\u001b[38;5;132;01m{\u001b[39;00m\u001b[38;5;28mself\u001b[39m\u001b[38;5;241m.\u001b[39m_hostname\u001b[38;5;132;01m}\u001b[39;00m\u001b[38;5;124m'\u001b[39m,\n\u001b[1;32m    329\u001b[0m                                                 url),\n\u001b[1;32m    330\u001b[0m                                   json\u001b[38;5;241m=\u001b[39mjson,\n\u001b[1;32m    331\u001b[0m                                   headers\u001b[38;5;241m=\u001b[39mheaders,\n\u001b[1;32m    332\u001b[0m                                   files\u001b[38;5;241m=\u001b[39mfiles)\n\u001b[1;32m    333\u001b[0m \u001b[38;5;28;01mif\u001b[39;00m response\u001b[38;5;241m.\u001b[39mstatus_code \u001b[38;5;241m!=\u001b[39m \u001b[38;5;241m200\u001b[39m:\n\u001b[0;32m--> 334\u001b[0m   \u001b[38;5;28;01mraise\u001b[39;00m \u001b[38;5;167;01mConnectionError\u001b[39;00m(response\u001b[38;5;241m.\u001b[39mtext)\n\u001b[1;32m    335\u001b[0m \u001b[38;5;28;01mreturn\u001b[39;00m response\n",
      "\u001b[0;31mConnectionError\u001b[0m: "
     ]
    }
   ],
   "source": [
    "desk.unlock()"
   ]
  },
  {
   "cell_type": "code",
   "execution_count": 5,
   "metadata": {},
   "outputs": [
    {
     "ename": "ConnectionError",
     "evalue": "{\"error\":\"ControlTokenUnknown\",\"message\":\"Unknown control token\",\"type\":\"ControlTokenException\"}",
     "output_type": "error",
     "traceback": [
      "\u001b[0;31m---------------------------------------------------------------------------\u001b[0m",
      "\u001b[0;31mConnectionError\u001b[0m                           Traceback (most recent call last)",
      "Cell \u001b[0;32mIn[5], line 1\u001b[0m\n\u001b[0;32m----> 1\u001b[0m \u001b[43mdesk\u001b[49m\u001b[38;5;241;43m.\u001b[39;49m\u001b[43mactivate_fci\u001b[49m\u001b[43m(\u001b[49m\u001b[43m)\u001b[49m\n",
      "File \u001b[0;32m~/Documents/panda-py/src/panda_py/__init__.py:155\u001b[0m, in \u001b[0;36mDesk.activate_fci\u001b[0;34m(self)\u001b[0m\n\u001b[1;32m    149\u001b[0m \u001b[38;5;250m\u001b[39m\u001b[38;5;124;03m\"\"\"\u001b[39;00m\n\u001b[1;32m    150\u001b[0m \u001b[38;5;124;03mActivates the Franka Research Interface (FCI). Note that the\u001b[39;00m\n\u001b[1;32m    151\u001b[0m \u001b[38;5;124;03mbrakes must be unlocked first. For older Desk versions, this\u001b[39;00m\n\u001b[1;32m    152\u001b[0m \u001b[38;5;124;03mfunction does nothing.\u001b[39;00m\n\u001b[1;32m    153\u001b[0m \u001b[38;5;124;03m\"\"\"\u001b[39;00m\n\u001b[1;32m    154\u001b[0m \u001b[38;5;28;01mif\u001b[39;00m \u001b[38;5;129;01mnot\u001b[39;00m \u001b[38;5;28mself\u001b[39m\u001b[38;5;241m.\u001b[39m_legacy:\n\u001b[0;32m--> 155\u001b[0m   \u001b[38;5;28;43mself\u001b[39;49m\u001b[38;5;241;43m.\u001b[39;49m\u001b[43m_request\u001b[49m\u001b[43m(\u001b[49m\u001b[38;5;124;43m'\u001b[39;49m\u001b[38;5;124;43mpost\u001b[39;49m\u001b[38;5;124;43m'\u001b[39;49m\u001b[43m,\u001b[49m\n\u001b[1;32m    156\u001b[0m \u001b[43m                \u001b[49m\u001b[38;5;124;43m'\u001b[39;49m\u001b[38;5;124;43m/admin/api/control-token/fci\u001b[39;49m\u001b[38;5;124;43m'\u001b[39;49m\u001b[43m,\u001b[49m\n\u001b[1;32m    157\u001b[0m \u001b[43m                \u001b[49m\u001b[43mjson\u001b[49m\u001b[38;5;241;43m=\u001b[39;49m\u001b[43m{\u001b[49m\u001b[38;5;124;43m'\u001b[39;49m\u001b[38;5;124;43mtoken\u001b[39;49m\u001b[38;5;124;43m'\u001b[39;49m\u001b[43m:\u001b[49m\u001b[43m \u001b[49m\u001b[38;5;28;43mself\u001b[39;49m\u001b[38;5;241;43m.\u001b[39;49m\u001b[43m_token\u001b[49m\u001b[38;5;241;43m.\u001b[39;49m\u001b[43mtoken\u001b[49m\u001b[43m}\u001b[49m\u001b[43m)\u001b[49m\n",
      "File \u001b[0;32m~/Documents/panda-py/src/panda_py/__init__.py:334\u001b[0m, in \u001b[0;36mDesk._request\u001b[0;34m(self, method, url, json, headers, files)\u001b[0m\n\u001b[1;32m    328\u001b[0m response: requests\u001b[38;5;241m.\u001b[39mResponse \u001b[38;5;241m=\u001b[39m fun(parse\u001b[38;5;241m.\u001b[39murljoin(\u001b[38;5;124mf\u001b[39m\u001b[38;5;124m'\u001b[39m\u001b[38;5;124mhttps://\u001b[39m\u001b[38;5;132;01m{\u001b[39;00m\u001b[38;5;28mself\u001b[39m\u001b[38;5;241m.\u001b[39m_hostname\u001b[38;5;132;01m}\u001b[39;00m\u001b[38;5;124m'\u001b[39m,\n\u001b[1;32m    329\u001b[0m                                                 url),\n\u001b[1;32m    330\u001b[0m                                   json\u001b[38;5;241m=\u001b[39mjson,\n\u001b[1;32m    331\u001b[0m                                   headers\u001b[38;5;241m=\u001b[39mheaders,\n\u001b[1;32m    332\u001b[0m                                   files\u001b[38;5;241m=\u001b[39mfiles)\n\u001b[1;32m    333\u001b[0m \u001b[38;5;28;01mif\u001b[39;00m response\u001b[38;5;241m.\u001b[39mstatus_code \u001b[38;5;241m!=\u001b[39m \u001b[38;5;241m200\u001b[39m:\n\u001b[0;32m--> 334\u001b[0m   \u001b[38;5;28;01mraise\u001b[39;00m \u001b[38;5;167;01mConnectionError\u001b[39;00m(response\u001b[38;5;241m.\u001b[39mtext)\n\u001b[1;32m    335\u001b[0m \u001b[38;5;28;01mreturn\u001b[39;00m response\n",
      "\u001b[0;31mConnectionError\u001b[0m: {\"error\":\"ControlTokenUnknown\",\"message\":\"Unknown control token\",\"type\":\"ControlTokenException\"}"
     ]
    }
   ],
   "source": [
    "\n",
    "desk.activate_fci()"
   ]
  },
  {
   "cell_type": "markdown",
   "metadata": {},
   "source": [
    "## Code Block 2\n",
    "\n",
    "Connect to the robot using the Panda class. The default gripper from Franka Emika does not support real-time control and can be controlled using the libfranka bindings directly."
   ]
  },
  {
   "cell_type": "code",
   "execution_count": 6,
   "metadata": {},
   "outputs": [
    {
     "name": "stderr",
     "output_type": "stream",
     "text": [
      "INFO:panda:Connected to robot (172.16.0.2).\n"
     ]
    }
   ],
   "source": [
    "from panda_py import libfranka\n",
    "\n",
    "panda = panda_py.Panda(hostname)\n",
    "gripper = libfranka.Gripper(hostname)"
   ]
  },
  {
   "cell_type": "markdown",
   "metadata": {},
   "source": [
    "## Code Block 3\n",
    "\n",
    "Simple motion generation in joint space. The call to `get_pose` produces a $4\\times 4$ matrix representing the homogeneous transform from robot base to end-effector. The indices $2,3$ refer to third row and fourth column respectively, i.e. the z-coordinate. The position in z is lowered by $0.1\\mathrm{m}$ and passed to the inverse kinematics function to produce joint positions. Finally the call to `move_to_joint_position` generates a motion from the current to the desired joint potions."
   ]
  },
  {
   "cell_type": "code",
   "execution_count": 11,
   "metadata": {},
   "outputs": [
    {
     "name": "stderr",
     "output_type": "stream",
     "text": [
      "INFO:panda:Stopping active controller (Trajectory).\n",
      "INFO:panda:Initializing motion generation (moveToJointPosition).\n",
      "INFO:motion:Computed joint trajectory: 1 waypoint, duration 0.80 seconds.\n",
      "INFO:panda:Starting new controller (Trajectory).\n",
      "INFO:panda:Stopping active controller (Trajectory).\n",
      "INFO:panda:Initializing motion generation (moveToJointPosition).\n",
      "INFO:motion:Computed joint trajectory: 1 waypoint, duration 0.80 seconds.\n",
      "INFO:panda:Starting new controller (Trajectory).\n"
     ]
    },
    {
     "data": {
      "text/plain": [
       "True"
      ]
     },
     "execution_count": 11,
     "metadata": {},
     "output_type": "execute_result"
    }
   ],
   "source": [
    "panda.move_to_start()\n",
    "pose = panda.get_pose()\n",
    "pose[2,3] -= .1\n",
    "q = panda_py.ik(pose)\n",
    "panda.move_to_joint_position(q)"
   ]
  },
  {
   "cell_type": "markdown",
   "metadata": {},
   "source": [
    "## Code Block 4\n",
    "\n",
    "Simple motion generation in Cartesian space. The z-coordinate of the current end-effector pose is lowered by $0.1\\mathrm{m}$ as in Code Block 3. However the resulting pose is passed directly to `move_to_pose` to produce a motion in Cartesian space."
   ]
  },
  {
   "cell_type": "code",
   "execution_count": 9,
   "metadata": {},
   "outputs": [
    {
     "name": "stderr",
     "output_type": "stream",
     "text": [
      "INFO:panda:Stopping active controller (Trajectory).\n",
      "INFO:panda:Initializing motion generation (moveToJointPosition).\n",
      "INFO:motion:Computed joint trajectory: 1 waypoint, duration 0.80 seconds.\n",
      "INFO:panda:Starting new controller (Trajectory).\n",
      "INFO:panda:Stopping active controller (Trajectory).\n",
      "INFO:panda:Initializing motion generation (moveToPose).\n",
      "INFO:motion:Computed Cartesian trajectory: 1 waypoint, duration 0.42 seconds.\n",
      "INFO:panda:Starting new controller (Trajectory).\n"
     ]
    },
    {
     "data": {
      "text/plain": [
       "True"
      ]
     },
     "execution_count": 9,
     "metadata": {},
     "output_type": "execute_result"
    }
   ],
   "source": [
    "panda.move_to_start()\n",
    "pose = panda.get_pose()\n",
    "pose[2,3] -= .1\n",
    "panda.move_to_pose(pose)"
   ]
  },
  {
   "cell_type": "markdown",
   "metadata": {},
   "source": [
    "## Inline Examples\n",
    "\n",
    "Various short examples used inline."
   ]
  },
  {
   "cell_type": "code",
   "execution_count": 16,
   "metadata": {},
   "outputs": [
    {
     "name": "stdout",
     "output_type": "stream",
     "text": [
      "{\"O_T_EE\": [0.99998,0.00603474,0.0018098,0,0.00604181,-0.999974,-0.00392591,0,0.00178606,0.00393677,-0.999991,0,0.30761,-0.248999,0.487281,1], \"O_T_EE_d\": [0.999988,0.00418842,0.00270927,0,0.00418127,-0.999988,0.00264054,0,0.0027203,-0.00262918,-0.999993,0,0.307732,0.24865,0.487961,1], \"F_T_NE\": [0.707107,-0.707107,0,0,0.707107,0.707107,0,0,0,0,1,0,0,0,0.1034,1], \"NE_T_EE\": [1,0,0,0,0,1,0,0,0,0,1,0,0,0,0,1], \"F_T_EE\": [0.707107,-0.707107,0,0,0.707107,0.707107,0,0,0,0,1,0,0,0,0.1034,1], \"EE_T_K\": [1,0,0,0,0,1,0,0,0,0,1,0,0,0,0,1], \"m_ee\": 0.73, \"F_x_Cee\": [-0.01,0,0.03], \"I_ee\": [0.001,0,0,0,0.0025,0,0,0,0.0017], \"m_load\": 0, \"F_x_Cload\": [0,0,0], \"I_load\": [0,0,0,0,0,0,0,0,0], \"m_total\": 0.73, \"F_x_Ctotal\": [-0.01,0,0.03], \"I_total\": [0.001,0,0,0,0.0025,0,0,0,0.0017], \"elbow\": [-0.819217,-1], \"elbow_d\": [0.817334,-1], \"elbow_c\": [0,0], \"delbow_c\": [0,0], \"ddelbow_c\": [0,0], \"tau_J\": [0.211283,11.0199,17.6286,15.8701,0.0481466,1.99804,0.106037], \"tau_J_d\": [0.100926,-0.41716,0.140955,0.475088,-1.07523,-0.463055,0.263407], \"dtau_J\": [-39.6506,-32.1948,11.0772,19.5685,25.3727,6.95967,-11.6433], \"q\": [0.699512,-1.00104,-0.819217,-2.10692,-0.67812,1.35207,0.780438], \"dq\": [0.000591595,0.000403158,0.000812685,-0.000422586,-0.000306088,-0.000277594,-0.000229988], \"q_d\": [-0.698154,-0.999513,0.817334,-2.10661,0.677252,1.35292,0.780471], \"dq_d\": [0,0,0,0,0,0,0], \"ddq_d\": [0,0,0,0,0,0,0], \"joint_contact\": [0,0,0,0,0,0,0], \"cartesian_contact\": [0,0,0,0,0,0], \"joint_collision\": [0,0,0,0,0,0,0], \"cartesian_collision\": [0,0,0,0,0,0], \"tau_ext_hat_filtered\": [0.148679,-0.578475,-0.184848,0.107622,-0.754615,-0.16144,0.13724], \"O_F_ext_hat_K\": [-0.683594,-0.948116,-0.952409,0.412952,-0.405054,-0.291148], \"K_F_ext_hat_K\": [-0.691026,0.947701,0.947446,-0.288083,0.362514,-0.172663], \"O_dP_EE_d\": [0,0,0,0,0,0], \"O_ddP_O\": [0,0,-9.81], \"O_T_EE_c\": [0,0,0,0,0,0,0,0,0,0,0,0,0,0,0,0], \"O_dP_EE_c\": [0,0,0,0,0,0], \"O_ddP_EE_c\": [0,0,0,0,0,0], \"theta\": [0.699527,-1.00025,-0.817896,-2.10573,-0.678115,1.35231,0.780451], \"dtheta\": [0,0,0.0124128,0,0,0,0], \"current_errors\": [], \"last_motion_errors\": [], \"control_command_success_rate\": 1, \"robot_mode\": \"Move\", \"time\": 6620928}\n",
      "<panda_py.libfranka.Model object at 0x7fb82877c8f0>\n"
     ]
    },
    {
     "data": {
      "text/plain": [
       "True"
      ]
     },
     "execution_count": 16,
     "metadata": {},
     "output_type": "execute_result"
    }
   ],
   "source": [
    "print(panda.get_state())\n",
    "print(panda.get_model())\n",
    "gripper.grasp(0, 0.2, 10, 0.04, 0.04)\n",
    "gripper.move(0.08, 0.2)"
   ]
  },
  {
   "cell_type": "markdown",
   "metadata": {},
   "source": [
    "## Code Block 5\n",
    "\n",
    "Using the integrated logging mechanism, the libfranka `RobotState` can be logged at a frequency of $1\\mathrm{kHz}$. This example creates two end-effector poses `T_0` and `T_1` based on the starting pose, displaced $0.25\\mathrm{m}$ to the left and right respectively. Before a motion is generated between these poses, logging is enabled for this Panda instance (line 9). The enable logging function takes the buffer size in number of steps as argument. As such, $2e3$ steps at $1\\mathrm{kHz}$ correspond to a buffer holding the state of the past 2 seconds. After the motion is finished, logging is disabled and the buffer retrieved (line 14)."
   ]
  },
  {
   "cell_type": "code",
   "execution_count": 13,
   "metadata": {},
   "outputs": [
    {
     "name": "stderr",
     "output_type": "stream",
     "text": [
      "INFO:panda:Stopping active controller (Trajectory).\n",
      "INFO:panda:Initializing motion generation (moveToPose).\n",
      "INFO:motion:Computed Cartesian trajectory: 1 waypoint, duration 0.87 seconds.\n",
      "INFO:panda:Starting new controller (Trajectory).\n",
      "INFO:panda:Stopping active controller (Trajectory).\n",
      "INFO:panda:Initializing motion generation (moveToPose).\n",
      "INFO:motion:Computed Cartesian trajectory: 1 waypoint, duration 29.46 seconds.\n",
      "INFO:panda:Starting new controller (Trajectory).\n",
      "INFO:panda:Stopping active controller (Trajectory).\n",
      "INFO:panda:Initializing motion generation (moveToPose).\n",
      "INFO:motion:Computed Cartesian trajectory: 1 waypoint, duration 1.60 seconds.\n",
      "INFO:panda:Starting new controller (Trajectory).\n",
      "INFO:panda:Stopping active controller (Trajectory).\n",
      "INFO:panda:Initializing motion generation (moveToJointPosition).\n",
      "INFO:motion:Computed joint trajectory: 1 waypoint, duration 3.98 seconds.\n",
      "INFO:panda:Starting new controller (Trajectory).\n"
     ]
    }
   ],
   "source": [
    "from panda_py import constants\n",
    "import numpy as np\n",
    "\n",
    "T_0 = panda_py.fk(constants.JOINT_POSITION_START)\n",
    "T_0[1, 3] = 0.25\n",
    "T_1 = T_0.copy()\n",
    "T_1[1, 3] = -0.25\n",
    "\n",
    "panda.move_to_pose(T_0)\n",
    "panda.enable_logging(40000)\n",
    "panda.move_to_pose(T_1,\n",
    "                   speed_factor=0.01,\n",
    "                   stiffness=2 * np.array([600, 600, 600, 600, 250, 150, 50]))\n",
    "panda.disable_logging()\n",
    "log = panda.get_log()\n",
    "\n",
    "panda.move_to_pose(T_0)\n",
    "panda.enable_logging(10000)\n",
    "panda.move_to_joint_position(panda_py.ik(T_1))\n",
    "panda.disable_logging()\n",
    "joint_log = panda.get_log()"
   ]
  },
  {
   "cell_type": "code",
   "execution_count": 15,
   "metadata": {},
   "outputs": [
    {
     "name": "stderr",
     "output_type": "stream",
     "text": [
      "INFO:matplotlib.font_manager:Failed to extract font properties from /usr/share/fonts/truetype/noto/NotoColorEmoji.ttf: In FT2Font: Can not load face (unknown file format; error code 0x2)\n",
      "INFO:matplotlib.font_manager:generated new fontManager\n"
     ]
    },
    {
     "data": {
      "image/png": "[encoded data removed]",
      "text/plain": [
       "<Figure size 600x300 with 2 Axes>"
      ]
     },
     "metadata": {},
     "output_type": "display_data"
    }
   ],
   "source": [
    "from matplotlib import pyplot as plt\n",
    "\n",
    "def plot(O_T_EE, ax, title: str):\n",
    "  ax.plot(O_T_EE[:,13], O_T_EE[:,14])\n",
    "  ax.set_xlim(-0.3,0.3)\n",
    "  ax.set_ylim(0.25,0.75)\n",
    "  ax.set_xlabel('y (m)')\n",
    "  ax.set_ylabel('z (m)')\n",
    "  ax.grid(True)\n",
    "  ax.set_title(title)\n",
    "\n",
    "fig, (ax0, ax1) = plt.subplots(1, 2, figsize=(6,3))\n",
    "plot(np.array(log['O_T_EE']), ax0, 'Cartesian Motion Path')\n",
    "plot(np.array(joint_log['O_T_EE']), ax1, 'Joint Motion Path')\n",
    "fig.tight_layout()"
   ]
  },
  {
   "cell_type": "markdown",
   "metadata": {},
   "source": [
    "## Code Block 6\n",
    "\n",
    "Running a panda-py controller. After initializing the controller, the current position and orientation are stored in `x0` and `q0` respectively, where `q0` is a quaternion representation of the end-effector orientation. After starting the controller, a `PandaContext` is created from the Panda object (line 10). `PandaContext` is a convenient context manager that executes a loop at a fixed frequency for an optional amount of time. The call to `PandaContext.ok` throttles the loop and also raises any control exceptions that may have been raised by libfranka. Use of `PandaContext` is optional and users are free to manage the control flow how they wish. In this example a periodic linear displacement along the y-axis is added to the initial pose (line 13). This results in the end-effector moving periodically from left to right in straight lines.\n",
    "\n",
    "> **Info**\n",
    ">\n",
    "> This Code Block doesn't run well inside IPython notebooks and may not finish successfully. Please run the example located at `examples/cartesian_impedance.py` instead.\n"
   ]
  },
  {
   "cell_type": "markdown",
   "metadata": {},
   "source": [
    "## Code Block 7\n",
    "\n",
    "Code Block 7: Resolved rate controller with reactive manipulability maximization. This example is from the Robotics Toolbox for Python. To run it on the real hardware with panda-py requires only connecting the inputs and outputs of the control loop to panda-py, i.e., using the joint positions `Panda.q` and providing the control signal to `IntegrateVelocity.set control`. Additionally, the inequality constraints to avoid the joint limits were removed, as panda-py controllers already have integrated joint limit avoidance using impedance control.\n",
    "\n",
    "> **Info**\n",
    ">\n",
    "> This Code Block doesn't run well inside IPython notebooks and may not finish successfully. Please run the example located at `examples/mmc.py` instead."
   ]
  }
 ],
 "metadata": {
  "kernelspec": {
   "display_name": "Python 3",
   "language": "python",
   "name": "python3"
  },
  "language_info": {
   "codemirror_mode": {
    "name": "ipython",
    "version": 3
   },
   "file_extension": ".py",
   "mimetype": "text/x-python",
   "name": "python",
   "nbconvert_exporter": "python",
   "pygments_lexer": "ipython3",
   "version": "3.8.10"
  },
  "orig_nbformat": 4
 },
 "nbformat": 4,
 "nbformat_minor": 2
}
