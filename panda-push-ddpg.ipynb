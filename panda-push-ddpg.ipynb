{
  "cells": [
    {
      "cell_type": "code",
      "execution_count": 2,
      "metadata": {
        "id": "uG9CdB3qTT2r"
      },
      "outputs": [],
      "source": [
        "import gymnasium as gym\n",
        "import panda_gym"
      ]
    },
    {
      "cell_type": "code",
      "execution_count": 1,
      "metadata": {
        "id": "riKxRsg5T-1b"
      },
      "outputs": [],
      "source": [
        "from stable_baselines3 import DDPG\n",
        "from stable_baselines3.common.env_util import make_vec_env\n",
        "import PIL\n",
        "from stable_baselines3.common.logger import configure"
      ]
    },
    {
      "cell_type": "code",
      "execution_count": 3,
      "metadata": {
        "id": "F4neJ8X8UDsB"
      },
      "outputs": [
        {
          "name": "stderr",
          "output_type": "stream",
          "text": [
            "pybullet build time: Mar 15 2024 18:50:49\n"
          ]
        },
        {
          "name": "stdout",
          "output_type": "stream",
          "text": [
            "argv[0]=--background_color_red=0.8745098114013672\n",
            "argv[1]=--background_color_green=0.21176470816135406\n",
            "argv[2]=--background_color_blue=0.1764705926179886\n"
          ]
        }
      ],
      "source": [
        "env = make_vec_env('PandaPush-v3',n_envs=1, seed=98)"
      ]
    },
    {
      "cell_type": "code",
      "execution_count": 4,
      "metadata": {
        "colab": {
          "base_uri": "https://localhost:8080/"
        },
        "id": "9cJB5CBMUFN1",
        "outputId": "0adff0a0-1055-4d58-f706-d30bfab7779a"
      },
      "outputs": [
        {
          "name": "stdout",
          "output_type": "stream",
          "text": [
            "Logging to /tmp/sb3_log/\n"
          ]
        }
      ],
      "source": [
        "tmp_path = \"/tmp/sb3_log/\"\n",
        "new_logger = configure(tmp_path, [\"stdout\", \"csv\", \"tensorboard\"])"
      ]
    },
    {
      "cell_type": "code",
      "execution_count": 5,
      "metadata": {
        "id": "kHH0uoXyUGz5"
      },
      "outputs": [],
      "source": [
        "model = DDPG('MultiInputPolicy',\n",
        "            env,\n",
        "            verbose=0,\n",
        "            gamma=0.9,\n",
        "            learning_rate=1e-3)"
      ]
    },
    {
      "cell_type": "code",
      "execution_count": 6,
      "metadata": {
        "id": "be5V1KCbUPoW"
      },
      "outputs": [],
      "source": [
        "model.set_logger(new_logger)"
      ]
    },
    {
      "cell_type": "code",
      "execution_count": 7,
      "metadata": {
        "colab": {
          "base_uri": "https://localhost:8080/",
          "height": 299
        },
        "id": "1MPaJK2jUQCZ",
        "outputId": "f8851124-a1c9-45eb-9e21-4cd112e928d5"
      },
      "outputs": [
        {
          "name": "stdout",
          "output_type": "stream",
          "text": [
            "---------------------------------\n",
            "| rollout/           |          |\n",
            "|    ep_len_mean     | 50       |\n",
            "|    ep_rew_mean     | -50      |\n",
            "|    success_rate    | 0        |\n",
            "| time/              |          |\n",
            "|    episodes        | 4        |\n",
            "|    fps             | 356      |\n",
            "|    time_elapsed    | 0        |\n",
            "|    total_timesteps | 200      |\n",
            "| train/             |          |\n",
            "|    actor_loss      | 0.917    |\n",
            "|    critic_loss     | 0.0907   |\n",
            "|    learning_rate   | 0.001    |\n",
            "|    n_updates       | 50       |\n",
            "---------------------------------\n",
            "---------------------------------\n",
            "| rollout/           |          |\n",
            "|    ep_len_mean     | 43.9     |\n",
            "|    ep_rew_mean     | -43.8    |\n",
            "|    success_rate    | 0.125    |\n",
            "| time/              |          |\n",
            "|    episodes        | 8        |\n",
            "|    fps             | 179      |\n",
            "|    time_elapsed    | 1        |\n",
            "|    total_timesteps | 351      |\n",
            "| train/             |          |\n",
            "|    actor_loss      | 1.67     |\n",
            "|    critic_loss     | 0.0284   |\n",
            "|    learning_rate   | 0.001    |\n",
            "|    n_updates       | 201      |\n",
            "---------------------------------\n",
            "---------------------------------\n",
            "| rollout/           |          |\n",
            "|    ep_len_mean     | 45.9     |\n",
            "|    ep_rew_mean     | -45.8    |\n",
            "|    success_rate    | 0.0833   |\n",
            "| time/              |          |\n",
            "|    episodes        | 12       |\n",
            "|    fps             | 151      |\n",
            "|    time_elapsed    | 3        |\n",
            "|    total_timesteps | 551      |\n",
            "| train/             |          |\n",
            "|    actor_loss      | 2.24     |\n",
            "|    critic_loss     | 0.0092   |\n",
            "|    learning_rate   | 0.001    |\n",
            "|    n_updates       | 401      |\n",
            "---------------------------------\n",
            "---------------------------------\n",
            "| rollout/           |          |\n",
            "|    ep_len_mean     | 46.9     |\n",
            "|    ep_rew_mean     | -46.9    |\n",
            "|    success_rate    | 0.0625   |\n",
            "| time/              |          |\n",
            "|    episodes        | 16       |\n",
            "|    fps             | 142      |\n",
            "|    time_elapsed    | 5        |\n",
            "|    total_timesteps | 751      |\n",
            "| train/             |          |\n",
            "|    actor_loss      | 2.86     |\n",
            "|    critic_loss     | 0.0114   |\n",
            "|    learning_rate   | 0.001    |\n",
            "|    n_updates       | 601      |\n",
            "---------------------------------\n",
            "---------------------------------\n",
            "| rollout/           |          |\n",
            "|    ep_len_mean     | 47.5     |\n",
            "|    ep_rew_mean     | -47.5    |\n",
            "|    success_rate    | 0.05     |\n",
            "| time/              |          |\n",
            "|    episodes        | 20       |\n",
            "|    fps             | 134      |\n",
            "|    time_elapsed    | 7        |\n",
            "|    total_timesteps | 951      |\n",
            "| train/             |          |\n",
            "|    actor_loss      | 3.42     |\n",
            "|    critic_loss     | 0.0193   |\n",
            "|    learning_rate   | 0.001    |\n",
            "|    n_updates       | 801      |\n",
            "---------------------------------\n"
          ]
        },
        {
          "data": {
            "text/plain": [
              "<stable_baselines3.ddpg.ddpg.DDPG at 0x7f9b3574ec00>"
            ]
          },
          "execution_count": 7,
          "metadata": {},
          "output_type": "execute_result"
        }
      ],
      "source": [
        "model.learn(total_timesteps=1e3)"
      ]
    },
    {
      "cell_type": "code",
      "execution_count": 9,
      "metadata": {
        "id": "gT_qm_q-URhj"
      },
      "outputs": [],
      "source": [
        "model.save('ddpg_stablebaselines_agent')\n",
        "policy = model.policy\n",
        "policy.save(\"ddpg_policy_pandapush\")"
      ]
    },
    {
      "cell_type": "code",
      "execution_count": 10,
      "metadata": {
        "id": "p_wk_5NsUVVh"
      },
      "outputs": [],
      "source": [
        "model = DDPG.load('rl_models/ddpg_stablebaselines_agent')"
      ]
    },
    {
      "cell_type": "code",
      "execution_count": 11,
      "metadata": {
        "id": "FGAVgSWAUZ1l"
      },
      "outputs": [
        {
          "name": "stdout",
          "output_type": "stream",
          "text": [
            "Iteration:  0\n",
            "Iteration:  1\n",
            "Iteration:  2\n",
            "Iteration:  3\n",
            "Iteration:  4\n",
            "Iteration:  5\n",
            "Iteration:  6\n",
            "Iteration:  7\n",
            "Iteration:  8\n",
            "Iteration:  9\n",
            "Iteration:  10\n",
            "Iteration:  11\n",
            "Iteration:  12\n",
            "Iteration:  13\n",
            "Iteration:  14\n",
            "Iteration:  15\n",
            "Iteration:  16\n",
            "Iteration:  17\n",
            "Iteration:  18\n",
            "Iteration:  19\n",
            "Iteration:  20\n",
            "Iteration:  21\n",
            "Iteration:  22\n",
            "Iteration:  23\n",
            "Iteration:  24\n",
            "Iteration:  25\n",
            "Iteration:  26\n",
            "Iteration:  27\n",
            "Iteration:  28\n",
            "Iteration:  29\n",
            "Iteration:  30\n",
            "Iteration:  31\n",
            "Iteration:  32\n",
            "Iteration:  33\n",
            "Iteration:  34\n",
            "Iteration:  35\n",
            "Iteration:  36\n",
            "Iteration:  37\n",
            "Iteration:  38\n",
            "Iteration:  39\n",
            "Iteration:  40\n",
            "Iteration:  41\n",
            "Iteration:  42\n",
            "Iteration:  43\n",
            "Iteration:  44\n",
            "Iteration:  45\n",
            "Iteration:  46\n",
            "Iteration:  47\n",
            "Iteration:  48\n",
            "Iteration:  49\n",
            "Iteration:  50\n",
            "Iteration:  51\n",
            "Iteration:  52\n",
            "Iteration:  53\n",
            "Iteration:  54\n",
            "Iteration:  55\n",
            "Iteration:  56\n",
            "Iteration:  57\n",
            "Iteration:  58\n",
            "Iteration:  59\n",
            "Iteration:  60\n",
            "Iteration:  61\n",
            "Iteration:  62\n",
            "Iteration:  63\n",
            "Iteration:  64\n",
            "Iteration:  65\n",
            "Iteration:  66\n",
            "Iteration:  67\n",
            "Iteration:  68\n",
            "Iteration:  69\n",
            "Iteration:  70\n",
            "Iteration:  71\n",
            "Iteration:  72\n",
            "Iteration:  73\n",
            "Iteration:  74\n",
            "Iteration:  75\n",
            "Iteration:  76\n",
            "Iteration:  77\n",
            "Iteration:  78\n",
            "Iteration:  79\n",
            "Iteration:  80\n",
            "Iteration:  81\n",
            "Iteration:  82\n",
            "Iteration:  83\n",
            "Iteration:  84\n",
            "Iteration:  85\n",
            "Iteration:  86\n",
            "Iteration:  87\n",
            "Iteration:  88\n",
            "Iteration:  89\n",
            "Iteration:  90\n",
            "Iteration:  91\n",
            "Iteration:  92\n",
            "Iteration:  93\n",
            "Iteration:  94\n",
            "Iteration:  95\n",
            "Iteration:  96\n",
            "Iteration:  97\n",
            "Iteration:  98\n",
            "Iteration:  99\n",
            "Iteration:  100\n",
            "Iteration:  101\n",
            "Iteration:  102\n",
            "Iteration:  103\n",
            "Iteration:  104\n",
            "Iteration:  105\n",
            "Iteration:  106\n",
            "Iteration:  107\n",
            "Iteration:  108\n",
            "Iteration:  109\n",
            "Iteration:  110\n",
            "Iteration:  111\n",
            "Iteration:  112\n",
            "Iteration:  113\n"
          ]
        }
      ],
      "source": [
        "obs = env.reset()\n",
        "\n",
        "images = []\n",
        "for i in range(100):\n",
        "    action, _states = model.predict(obs)\n",
        "    obs = env.step(action)[0]\n",
        "    img = env.render()\n",
        "    img = PIL.Image.fromarray(img)\n",
        "    images.append(img)\n",
        "    print(\"Iteration: \",i)\n",
        "\n",
        "env.close()"
      ]
    },
    {
      "cell_type": "code",
      "execution_count": 11,
      "metadata": {
        "id": "TDy4r_-gUd7m"
      },
      "outputs": [],
      "source": [
        "images[0].save('gif/ddpg_stablebaselines_example.gif',\n",
        "              save_all=True, append_images=images[1:],\n",
        "              optimize=False, duration=40, loop=0)"
      ]
    }
  ],
  "metadata": {
    "colab": {
      "provenance": []
    },
    "kernelspec": {
      "display_name": "Python 3",
      "name": "python3"
    },
    "language_info": {
      "codemirror_mode": {
        "name": "ipython",
        "version": 3
      },
      "file_extension": ".py",
      "mimetype": "text/x-python",
      "name": "python",
      "nbconvert_exporter": "python",
      "pygments_lexer": "ipython3",
      "version": "3.12.2"
    }
  },
  "nbformat": 4,
  "nbformat_minor": 0
}
