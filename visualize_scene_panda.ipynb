{
 "cells": [
  {
   "cell_type": "code",
   "execution_count": 1,
   "metadata": {},
   "outputs": [],
   "source": [
    "import numpy as np\n",
    "from pydrake.geometry import StartMeshcat\n",
    "from pydrake.multibody.inverse_kinematics import (\n",
    "    DifferentialInverseKinematicsParameters,\n",
    "    DifferentialInverseKinematicsStatus,\n",
    "    DoDifferentialInverseKinematics,\n",
    ")\n",
    "from pydrake.systems.analysis import Simulator\n",
    "from pydrake.systems.framework import DiagramBuilder, EventStatus, LeafSystem\n",
    "from pydrake.visualization import MeshcatPoseSliders\n",
    "\n",
    "from manipulation import running_as_notebook\n",
    "from manipulation.meshcat_utils import WsgButton\n",
    "from manipulation.scenarios import AddIiwaDifferentialIK, ExtractBodyPose\n",
    "from manipulation.station import MakeHardwareStation, load_scenario"
   ]
  },
  {
   "cell_type": "code",
   "execution_count": 2,
   "metadata": {},
   "outputs": [
    {
     "name": "stderr",
     "output_type": "stream",
     "text": [
      "INFO:drake:Meshcat listening for connections at http://localhost:7002\n"
     ]
    }
   ],
   "source": [
    "# Start the visualizer.\n",
    "meshcat = StartMeshcat()"
   ]
  },
  {
   "cell_type": "code",
   "execution_count": 3,
   "metadata": {},
   "outputs": [],
   "source": [
    "def construct_scenario():\n",
    "    scenario_data = \"\"\"\n",
    "directives:\n",
    "- add_model:\n",
    "    name: table_top\n",
    "    file: package://tucker/models/table_top.sdf\n",
    "- add_weld:\n",
    "    parent: world\n",
    "    child: table_top::table_top_center\n",
    "- add_model:\n",
    "    name: panda\n",
    "    file: package://drake/manipulation/models/franka_description/urdf/panda_arm.urdf\n",
    "    default_joint_positions:\n",
    "        panda_joint1: [0]\n",
    "        panda_joint2: [0]\n",
    "        panda_joint3: [0]\n",
    "        panda_joint4: [0]\n",
    "        panda_joint5: [0]\n",
    "        panda_joint6: [0]\n",
    "        panda_joint7: [1.57]\n",
    "- add_weld:\n",
    "    parent: table_top_link\n",
    "    child: panda::panda_link0\n",
    "    X_PC:\n",
    "        translation: [0.35, 0.5, 0.015]\n",
    "- add_model:\n",
    "    name: panda_hand\n",
    "    file: package://drake/manipulation/models/franka_description/urdf/panda_hand.urdf\n",
    "- add_weld:\n",
    "    parent: panda::panda_link7\n",
    "    child: panda_hand::panda_hand\n",
    "    X_PC:\n",
    "        translation: [0, 0, 0.12]\n",
    "        rotation: !Rpy { deg: [0, 0, 90]}\n",
    "\"\"\"\n",
    "# plant_config:\n",
    "#    time_step: 0.01\n",
    "\n",
    "    driver_data = \"\"\"\n",
    "model_drivers:\n",
    "    panda: !IiwaDriver\n",
    "      hand_model_name: panda_hand\n",
    "    panda_hand: !SchunkWsgDriver {}\n",
    "\"\"\"\n",
    "\n",
    "    scenario_data += driver_data\n",
    "    scenario = load_scenario(data = scenario_data)\n",
    "    return scenario"
   ]
  },
  {
   "cell_type": "code",
   "execution_count": 4,
   "metadata": {},
   "outputs": [],
   "source": [
    "from pydrake.all import (DifferentialInverseKinematicsIntegrator)"
   ]
  },
  {
   "cell_type": "code",
   "execution_count": 5,
   "metadata": {},
   "outputs": [],
   "source": [
    "\n",
    "def AddPandaDifferentialIK(builder, plant, frame=None):\n",
    "    params = DifferentialInverseKinematicsParameters(\n",
    "        plant.num_positions(), plant.num_velocities()\n",
    "    )\n",
    "    time_step = plant.time_step()\n",
    "    q0 = plant.GetPositions(plant.CreateDefaultContext())\n",
    "    params.set_nominal_joint_position(q0)\n",
    "    params.set_end_effector_angular_speed_limit(2)\n",
    "    params.set_end_effector_translational_velocity_limits(\n",
    "        [-2, -2, -2], [2, 2, 2]\n",
    "    )\n",
    "    if plant.num_positions() == 3:  # planar iiwa\n",
    "        iiwa14_velocity_limits = np.array([1.4, 1.3, 2.3])\n",
    "        params.set_joint_velocity_limits(\n",
    "            (-iiwa14_velocity_limits, iiwa14_velocity_limits)\n",
    "        )\n",
    "        # These constants are in body frame\n",
    "        assert (\n",
    "            frame.name() == \"panda_link_7\"\n",
    "        ), \"Still need to generalize the remaining planar diff IK params for different frames\"  # noqa\n",
    "        params.set_end_effector_velocity_flag(\n",
    "            [True, False, False, True, False, True]\n",
    "        )\n",
    "    else:\n",
    "        panda_velocity_limits = np.array([1.4, 1.4, 1.7, 1.3, 2.2, 2.3, 2.3])\n",
    "        params.set_joint_velocity_limits(\n",
    "            (-panda_velocity_limits, panda_velocity_limits)\n",
    "        )\n",
    "        params.set_joint_centering_gain(10 * np.eye(7))\n",
    "    if frame is None:\n",
    "        frame = plant.GetFrameByName(\"body\")\n",
    "    differential_ik = builder.AddSystem(\n",
    "        DifferentialInverseKinematicsIntegrator(\n",
    "            plant,\n",
    "            frame,\n",
    "            time_step,\n",
    "            params,\n",
    "            log_only_when_result_state_changes=True,\n",
    "        )\n",
    "    )\n",
    "    return differential_ik"
   ]
  },
  {
   "cell_type": "code",
   "execution_count": 6,
   "metadata": {},
   "outputs": [
    {
     "name": "stderr",
     "output_type": "stream",
     "text": [
      "WARNING:drake:DRAKE DEPRECATED: Use MultibodyPlantConfig::discrete_contact_approximation instead of MultibodyPlantConfig::discrete_contact_solver. The deprecated code will be removed from Drake on or after 2024-04-01.\n"
     ]
    },
    {
     "name": "stderr",
     "output_type": "stream",
     "text": [
      "WARNING:drake:Differential IK started returning status:\"stuck\" at time 0.0.\n"
     ]
    },
    {
     "name": "stdout",
     "output_type": "stream",
     "text": [
      "Press Space to open/close the gripper\n",
      "Press Escape to stop the simulation\n",
      "[0.05002777262733285, 0.06896460107142612, 0.028207119256898873, 0.18151016398838554, 0.0701021667024923, -0.3995816399479858, -0.3573921219039096]\n",
      "[0.09536878807226008, 0.12944115522111294, 0.05419060100397764, 0.32103117412482035, 0.1336265300464568, -0.8372640240911619, -0.6838319452552348]\n"
     ]
    },
    {
     "ename": "KeyboardInterrupt",
     "evalue": "",
     "output_type": "error",
     "traceback": [
      "\u001b[0;31m---------------------------------------------------------------------------\u001b[0m",
      "\u001b[0;31mKeyboardInterrupt\u001b[0m                         Traceback (most recent call last)",
      "Cell \u001b[0;32mIn[6], line 76\u001b[0m\n\u001b[1;32m     72\u001b[0m     \u001b[38;5;28;01melse\u001b[39;00m:\n\u001b[1;32m     73\u001b[0m         simulator\u001b[38;5;241m.\u001b[39mAdvanceTo(\u001b[38;5;241m0.1\u001b[39m)\n\u001b[0;32m---> 76\u001b[0m \u001b[43mteleop_3d\u001b[49m\u001b[43m(\u001b[49m\u001b[43m)\u001b[49m\n",
      "Cell \u001b[0;32mIn[6], line 68\u001b[0m, in \u001b[0;36mteleop_3d\u001b[0;34m()\u001b[0m\n\u001b[1;32m     66\u001b[0m \u001b[38;5;28mprint\u001b[39m(\u001b[38;5;124m\"\u001b[39m\u001b[38;5;124mPress Escape to stop the simulation\u001b[39m\u001b[38;5;124m\"\u001b[39m)\n\u001b[1;32m     67\u001b[0m \u001b[38;5;28;01mwhile\u001b[39;00m meshcat\u001b[38;5;241m.\u001b[39mGetButtonClicks(\u001b[38;5;124m\"\u001b[39m\u001b[38;5;124mStop Simulation\u001b[39m\u001b[38;5;124m\"\u001b[39m) \u001b[38;5;241m<\u001b[39m \u001b[38;5;241m1\u001b[39m:\n\u001b[0;32m---> 68\u001b[0m     \u001b[43msimulator\u001b[49m\u001b[38;5;241;43m.\u001b[39;49m\u001b[43mAdvanceTo\u001b[49m\u001b[43m(\u001b[49m\u001b[43msimulator\u001b[49m\u001b[38;5;241;43m.\u001b[39;49m\u001b[43mget_context\u001b[49m\u001b[43m(\u001b[49m\u001b[43m)\u001b[49m\u001b[38;5;241;43m.\u001b[39;49m\u001b[43mget_time\u001b[49m\u001b[43m(\u001b[49m\u001b[43m)\u001b[49m\u001b[43m \u001b[49m\u001b[38;5;241;43m+\u001b[39;49m\u001b[43m \u001b[49m\u001b[38;5;241;43m2.0\u001b[39;49m\u001b[43m)\u001b[49m\n\u001b[1;32m     69\u001b[0m     \u001b[38;5;28mprint\u001b[39m(simulator\u001b[38;5;241m.\u001b[39mget_context()\u001b[38;5;241m.\u001b[39mget_continuous_state_vector())    \n\u001b[1;32m     70\u001b[0m meshcat\u001b[38;5;241m.\u001b[39mDeleteButton(\u001b[38;5;124m\"\u001b[39m\u001b[38;5;124mStop Simulation\u001b[39m\u001b[38;5;124m\"\u001b[39m)\n",
      "File \u001b[0;32m~/Documents/franka-pipeline/.venv/lib/python3.8/site-packages/manipulation/meshcat_utils.py:294\u001b[0m, in \u001b[0;36mWsgButton.DoCalcOutput\u001b[0;34m(self, context, output)\u001b[0m\n\u001b[1;32m    291\u001b[0m \u001b[38;5;28;01mdef\u001b[39;00m \u001b[38;5;21m__del__\u001b[39m(\u001b[38;5;28mself\u001b[39m):\n\u001b[1;32m    292\u001b[0m     \u001b[38;5;28mself\u001b[39m\u001b[38;5;241m.\u001b[39m_meshcat\u001b[38;5;241m.\u001b[39mDeleteButton(\u001b[38;5;28mself\u001b[39m\u001b[38;5;241m.\u001b[39m_button)\n\u001b[0;32m--> 294\u001b[0m \u001b[38;5;28;01mdef\u001b[39;00m \u001b[38;5;21mDoCalcOutput\u001b[39m(\u001b[38;5;28mself\u001b[39m, context, output):\n\u001b[1;32m    295\u001b[0m     position \u001b[38;5;241m=\u001b[39m \u001b[38;5;241m0.107\u001b[39m  \u001b[38;5;66;03m# open\u001b[39;00m\n\u001b[1;32m    296\u001b[0m     \u001b[38;5;28;01mif\u001b[39;00m (\u001b[38;5;28mself\u001b[39m\u001b[38;5;241m.\u001b[39m_meshcat\u001b[38;5;241m.\u001b[39mGetButtonClicks(\u001b[38;5;28mself\u001b[39m\u001b[38;5;241m.\u001b[39m_button) \u001b[38;5;241m%\u001b[39m \u001b[38;5;241m2\u001b[39m) \u001b[38;5;241m==\u001b[39m \u001b[38;5;241m1\u001b[39m:\n",
      "\u001b[0;31mKeyboardInterrupt\u001b[0m: "
     ]
    }
   ],
   "source": [
    "def teleop_3d():\n",
    "    meshcat.ResetRenderMode()\n",
    "    builder = DiagramBuilder()\n",
    "    scenario = construct_scenario()\n",
    "    station = builder.AddSystem(MakeHardwareStation(scenario, meshcat, package_xmls=['./package.xml']))\n",
    "    plant = station.GetSubsystemByName(\"plant\")\n",
    "    #station = builder.AddSystem(MakeHardwareStation(scenario, meshcat))\n",
    "    # TODO(russt): Replace with station.AddDiffIk(...)\n",
    "    controller_plant = station.GetSubsystemByName(\n",
    "        \"panda.controller\"\n",
    "    ).get_multibody_plant_for_control()\n",
    "    # Set up differential inverse kinematics.\n",
    "    differential_ik = AddPandaDifferentialIK(\n",
    "        builder,\n",
    "        controller_plant,\n",
    "        frame=controller_plant.GetFrameByName(\"iiwa_link_7\"),\n",
    "    )\n",
    "    builder.Connect(\n",
    "        differential_ik.get_output_port(),\n",
    "        station.GetInputPort(\"panda.position\"),\n",
    "    )\n",
    "    builder.Connect(\n",
    "        station.GetOutputPort(\"panda.state_estimated\"),\n",
    "        differential_ik.GetInputPort(\"robot_state\"),\n",
    "    )\n",
    "\n",
    "    # Set up teleop widgets.\n",
    "    meshcat.DeleteAddedControls()\n",
    "    teleop = builder.AddSystem(\n",
    "        MeshcatPoseSliders(\n",
    "            meshcat,\n",
    "            lower_limit=[0, -0.5, -np.pi, -0.6, -0.8, 0.0],\n",
    "            upper_limit=[2 * np.pi, np.pi, np.pi, 0.8, 0.3, 1.1],\n",
    "        )\n",
    "    )\n",
    "    builder.Connect(\n",
    "        teleop.get_output_port(), differential_ik.GetInputPort(\"X_WE_desired\")\n",
    "    )\n",
    "    # Note: This is using \"Cheat Ports\". For it to work on hardware, we would\n",
    "    # need to construct the initial pose from the HardwareStation outputs.\n",
    "    plant = station.GetSubsystemByName(\"plant\")\n",
    "    ee_pose = builder.AddSystem(\n",
    "        ExtractBodyPose(\n",
    "            station.GetOutputPort(\"body_poses\"),\n",
    "            plant.GetBodyByName(\"panda_link7\").index(),\n",
    "        )\n",
    "    )\n",
    "    builder.Connect(\n",
    "        station.GetOutputPort(\"body_poses\"), ee_pose.get_input_port()\n",
    "    )\n",
    "    builder.Connect(ee_pose.get_output_port(), teleop.get_input_port())\n",
    "    panda_hand_teleop = builder.AddSystem(WsgButton(meshcat))\n",
    "    builder.Connect(\n",
    "        panda_hand_teleop.get_output_port(0), station.GetInputPort(\"panda_hand.position\")\n",
    "    )\n",
    "\n",
    "    diagram = builder.Build()\n",
    "    simulator = Simulator(diagram)\n",
    "    simulator.get_mutable_context()\n",
    "    simulator_context = simulator.get_mutable_context()\n",
    "    plant_context = plant.GetMyMutableContextFromRoot(simulator_context)\n",
    "    if running_as_notebook:  # Then we're not just running as a test on CI.\n",
    "        simulator.set_target_realtime_rate(1.0)\n",
    "\n",
    "        meshcat.AddButton(\"Stop Simulation\", \"Escape\")\n",
    "        print(\"Press Escape to stop the simulation\")\n",
    "        while meshcat.GetButtonClicks(\"Stop Simulation\") < 1:\n",
    "            simulator.AdvanceTo(simulator.get_context().get_time() + 2.0)\n",
    "            print(simulator.get_context().get_continuous_state_vector())    \n",
    "        meshcat.DeleteButton(\"Stop Simulation\")\n",
    "\n",
    "    else:\n",
    "        simulator.AdvanceTo(0.1)\n",
    "\n",
    "\n",
    "teleop_3d()"
   ]
  }
 ],
 "metadata": {
  "kernelspec": {
   "display_name": ".venv",
   "language": "python",
   "name": "python3"
  },
  "language_info": {
   "codemirror_mode": {
    "name": "ipython",
    "version": 3
   },
   "file_extension": ".py",
   "mimetype": "text/x-python",
   "name": "python",
   "nbconvert_exporter": "python",
   "pygments_lexer": "ipython3",
   "version": "3.12.2"
  }
 },
 "nbformat": 4,
 "nbformat_minor": 2
}
